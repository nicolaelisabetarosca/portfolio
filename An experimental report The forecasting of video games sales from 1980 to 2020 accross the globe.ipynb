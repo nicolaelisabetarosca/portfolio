{
 "cells": [
  {
   "cell_type": "code",
   "execution_count": 1,
   "id": "220bc959-6563-4ea2-94ad-a3480e98a68c",
   "metadata": {
    "tags": []
   },
   "outputs": [],
   "source": [
    "import pandas as pd\n",
    "import numpy as np\n",
    "import tensorflow as tf\n",
    "from sklearn.preprocessing import LabelEncoder\n",
    "from sklearn.model_selection import train_test_split\n",
    "from tensorflow.keras.optimizers import SGD\n",
    "from tensorflow.keras.callbacks import EarlyStopping\n",
    "tf.random.set_seed(16)\n",
    "import matplotlib.pyplot as plt\n",
    "from sklearn.metrics import mean_absolute_error"
   ]
  },
  {
   "cell_type": "markdown",
   "id": "e4e72e22-1f1d-4760-9b6f-292f5d618d6d",
   "metadata": {
    "tags": []
   },
   "source": [
    "<h2> An experimental report: The forecasting of video games sales from 1980 to 2020 accross the globe </h2> "
   ]
  },
  {
   "cell_type": "markdown",
   "id": "573073a9-2102-46b2-b9fd-40e3e9e2fd52",
   "metadata": {},
   "source": [
    "<h4> Introduction </h4>"
   ]
  },
  {
   "cell_type": "markdown",
   "id": "c75b0e90-d3b8-43b6-baa0-c8777e79cc97",
   "metadata": {},
   "source": [
    "This experimental report will look to predict the global sales for video games from 1980 to 2020. This datatset looks at video games that had sales greater than 100,000 copies. It include sales from Northern America, Europe, Japan and global sales. \n",
    "\n",
    "This report is a regression task using several types of models. The aim is to tune as many hyperparameters as possible in order to find a combination that reduces the validation mean average error, which shows a good accuracy compared to our global_sales target. The hyperparameters tuned in the coursework range from number of layers and neurons, to activation functions, loss functions and optimizers. \n",
    "\n",
    "The first part looks at the raw dataset, its strenghts and weaknesses, and applies data preprocessing methods before creating models and tuning hyperparameters. At the time of writing this report, I have created over 20 models, each with a corresponding number. However, throughout the time, I dropped roughly four of them, as they showed no improvement or were duplications of other models. In the interest of keeping an order of models and having them organized, the models are numbered from Model 1 to Model 20, with a few missing. \n",
    "\n",
    "This report also includes a performance assessment for the best model that offered a val_mae of 0.46 and another model that offerd a val_mae of 0.49. As a result, I have discovered that the 0.46 model is the best one to use in this regression task. The performance assessment showed that the model with an architecture of three layers of 132 neurons, relu activation, rmsprop optimizer and mse loss is the best fit. \n",
    "\n",
    "In the following section I will look at the methodology of this experimental report. \n"
   ]
  },
  {
   "cell_type": "markdown",
   "id": "d91254c4-4b9b-4800-b096-27216958b42c",
   "metadata": {},
   "source": [
    "<h4> Methodology </h4>"
   ]
  },
  {
   "cell_type": "markdown",
   "id": "f0b6a410-2d53-4bde-9a72-2a1b397c4d4b",
   "metadata": {},
   "source": [
    "<h4> Dataset </h4> \n",
    "The first thing to do is to look at the raw data so I can assess the state it is in. This specific dataset was taken from Kaggle, and it was webscrapped from www.vgchartz.com with BeautifulSoup, a popular platform that looks at global historical video games sales. \n",
    "\n",
    "I started with data cleaning, such as renaming columns to ensure there are no spaces or anything that might stop the code from rendering properly. I also performed some exploratory data analysis, as it is necessary to establish the average, min and max values for the regression model. \n",
    "\n",
    "The dataset contains missing values (329 out of 16598), but not significant enough to affect the data. The missing cells are also values that could not be replaced by the mean or median, as they represent years of publication and publishers' names, therefore I chose to drop those cells.  \n",
    "\n",
    "There are quite a few columns containing string, so I changed the datatype to categorical, in order to follow best practices but also because otherwise the machine learning models would not be able to learn from it.The next step was to encode the categorical data. Since I dropped four columns, I only had two numerical columns, *global_sales and year*. The first one would feature as our target variable. A target variable should not be standardized, therefore I only dealt with the categorical columns. \n",
    "\n",
    "<h4> Encoding </h4> \n",
    "The reason I chose label encoding is that I tried one hot encoding beforehand, which created 10,000 more columns than what I had previously. This had the potential to confuse the model and create information bottleneck. It also uses too much computational powers, and it can potentially give noise to the model, especially the name column, which has multiple games with several entries. With the use of label encoding, I grouped all entries of one game (i.e. 2002 FIFA World Cup had 9 entries accross several years and several platforms, so all entries for said game will be assigned a random number). This seemed to worked fine for the models I ran. The only possible limitation that could stem from label encoding is that a machine learning model could think that the game part of the group 10 is higher and more important than the game that is part of group 4, even though there is no rank for the games. \n",
    "\n",
    "\n",
    "<h4> Validation </h4> \n",
    "The models used in this report used the holdout validation, where the dataset is split into training set, test set and validation set. The models are trained on the train set, tested against the test set and evaluated on the validation set. The holdout validation is easy to implement and it can train models faster.\n",
    "\n",
    "A common way to check the accuracy of the model is the mean absolute error, so I will be focusing on that (represent by val_mae). \n",
    "\n",
    "<h4> Hyperparameters </h4> \n",
    "\n",
    "This report is concerned with tuning several types of hyperparameters in order to produce a signal of the performance on the validation data. This represents the learning proces of the mode, and finding a good configuration that works with my dataset (Chollet, 2021, pg 133). \n",
    "\n",
    "<h4> Preventing information leaks </h4> \n",
    "\n",
    "The report is structured in a way that would prevent informaiton leaks, which happen when a model is tuned and ran several times. The first model used will be ran once, and based on the result of the val_mae, I will redo other models with other hyperparametres. Each of them will then be compared by looking at the minimum val_mae (validation mean absolute error). The two best models will have their performance assessed and tested against the test data. \n",
    "\n",
    "\n",
    "<h4> Model structure </h4> \n",
    "\n",
    "The general rule of thumb is to start small with any model. \"Deep Learning with Python\" (Chollet, 2021, pg 145) highlights the importance of starting with few layers and parameters, and increase and tune them as you go along, \"until you see diminishing returns with regard to validation loss\".\n",
    "\n",
    "<h4> Overfitting </h4> \n",
    "\n",
    "Model 20 is a model updated to include two dropout layers to prevent overfitting, however looking at the val_mae, it is not disimilar to the rest of the models I ran. \n",
    "\n",
    "<h4> Structure </h4> \n",
    "Each model will contain its architecture, and a history object, that remembers all the metrics that took place during training (Chollet, 2021, pg 102) \n",
    "\n",
    "<h4> Loss function </h4> \n",
    "\n",
    "Mean squared error (MSE) is usually used as a function loss for regression, therefore I will stick with it through the majority of the models. \n",
    "\n",
    "In the next section I will look at the raw data and its structure and perform data preprocessing. \n",
    "\n",
    "\n"
   ]
  },
  {
   "cell_type": "markdown",
   "id": "7fb16b72-f84e-444f-a476-5385344de9ae",
   "metadata": {},
   "source": [
    "<h2> Raw data "
   ]
  },
  {
   "cell_type": "code",
   "execution_count": 2,
   "id": "079975ff-0de8-4f48-9497-49f5bd41d704",
   "metadata": {
    "tags": []
   },
   "outputs": [
    {
     "data": {
      "text/html": [
       "<div>\n",
       "<style scoped>\n",
       "    .dataframe tbody tr th:only-of-type {\n",
       "        vertical-align: middle;\n",
       "    }\n",
       "\n",
       "    .dataframe tbody tr th {\n",
       "        vertical-align: top;\n",
       "    }\n",
       "\n",
       "    .dataframe thead th {\n",
       "        text-align: right;\n",
       "    }\n",
       "</style>\n",
       "<table border=\"1\" class=\"dataframe\">\n",
       "  <thead>\n",
       "    <tr style=\"text-align: right;\">\n",
       "      <th></th>\n",
       "      <th>Rank</th>\n",
       "      <th>Name</th>\n",
       "      <th>Platform</th>\n",
       "      <th>Year</th>\n",
       "      <th>Genre</th>\n",
       "      <th>Publisher</th>\n",
       "      <th>NA_Sales</th>\n",
       "      <th>EU_Sales</th>\n",
       "      <th>JP_Sales</th>\n",
       "      <th>Other_Sales</th>\n",
       "      <th>Global_Sales</th>\n",
       "    </tr>\n",
       "  </thead>\n",
       "  <tbody>\n",
       "    <tr>\n",
       "      <th>0</th>\n",
       "      <td>11078</td>\n",
       "      <td>Action Man-Operation Extreme</td>\n",
       "      <td>PS</td>\n",
       "      <td>NaN</td>\n",
       "      <td>Action</td>\n",
       "      <td>NaN</td>\n",
       "      <td>0.05</td>\n",
       "      <td>0.03</td>\n",
       "      <td>0.00</td>\n",
       "      <td>0.01</td>\n",
       "      <td>0.09</td>\n",
       "    </tr>\n",
       "    <tr>\n",
       "      <th>1</th>\n",
       "      <td>3219</td>\n",
       "      <td>Advance Wars: Days of Ruin</td>\n",
       "      <td>DS</td>\n",
       "      <td>NaN</td>\n",
       "      <td>Strategy</td>\n",
       "      <td>Nintendo</td>\n",
       "      <td>0.44</td>\n",
       "      <td>0.13</td>\n",
       "      <td>0.00</td>\n",
       "      <td>0.06</td>\n",
       "      <td>0.63</td>\n",
       "    </tr>\n",
       "    <tr>\n",
       "      <th>2</th>\n",
       "      <td>1515</td>\n",
       "      <td>Adventure</td>\n",
       "      <td>2600</td>\n",
       "      <td>NaN</td>\n",
       "      <td>Adventure</td>\n",
       "      <td>Atari</td>\n",
       "      <td>1.21</td>\n",
       "      <td>0.08</td>\n",
       "      <td>0.00</td>\n",
       "      <td>0.01</td>\n",
       "      <td>1.30</td>\n",
       "    </tr>\n",
       "    <tr>\n",
       "      <th>3</th>\n",
       "      <td>16249</td>\n",
       "      <td>Agarest Senki: Re-appearance</td>\n",
       "      <td>PS3</td>\n",
       "      <td>NaN</td>\n",
       "      <td>Role-Playing</td>\n",
       "      <td>Idea Factory</td>\n",
       "      <td>0.00</td>\n",
       "      <td>0.00</td>\n",
       "      <td>0.01</td>\n",
       "      <td>0.00</td>\n",
       "      <td>0.01</td>\n",
       "    </tr>\n",
       "    <tr>\n",
       "      <th>4</th>\n",
       "      <td>2115</td>\n",
       "      <td>Air-Sea Battle</td>\n",
       "      <td>2600</td>\n",
       "      <td>NaN</td>\n",
       "      <td>Shooter</td>\n",
       "      <td>Atari</td>\n",
       "      <td>0.91</td>\n",
       "      <td>0.06</td>\n",
       "      <td>0.00</td>\n",
       "      <td>0.01</td>\n",
       "      <td>0.98</td>\n",
       "    </tr>\n",
       "    <tr>\n",
       "      <th>...</th>\n",
       "      <td>...</td>\n",
       "      <td>...</td>\n",
       "      <td>...</td>\n",
       "      <td>...</td>\n",
       "      <td>...</td>\n",
       "      <td>...</td>\n",
       "      <td>...</td>\n",
       "      <td>...</td>\n",
       "      <td>...</td>\n",
       "      <td>...</td>\n",
       "      <td>...</td>\n",
       "    </tr>\n",
       "    <tr>\n",
       "      <th>16593</th>\n",
       "      <td>1971</td>\n",
       "      <td>Defender</td>\n",
       "      <td>2600</td>\n",
       "      <td>1980.0</td>\n",
       "      <td>Misc</td>\n",
       "      <td>Atari</td>\n",
       "      <td>0.99</td>\n",
       "      <td>0.05</td>\n",
       "      <td>0.00</td>\n",
       "      <td>0.01</td>\n",
       "      <td>1.05</td>\n",
       "    </tr>\n",
       "    <tr>\n",
       "      <th>16594</th>\n",
       "      <td>5368</td>\n",
       "      <td>Freeway</td>\n",
       "      <td>2600</td>\n",
       "      <td>1980.0</td>\n",
       "      <td>Action</td>\n",
       "      <td>Activision</td>\n",
       "      <td>0.32</td>\n",
       "      <td>0.02</td>\n",
       "      <td>0.00</td>\n",
       "      <td>0.00</td>\n",
       "      <td>0.34</td>\n",
       "    </tr>\n",
       "    <tr>\n",
       "      <th>16595</th>\n",
       "      <td>4027</td>\n",
       "      <td>Ice Hockey</td>\n",
       "      <td>2600</td>\n",
       "      <td>1980.0</td>\n",
       "      <td>Sports</td>\n",
       "      <td>Activision</td>\n",
       "      <td>0.46</td>\n",
       "      <td>0.03</td>\n",
       "      <td>0.00</td>\n",
       "      <td>0.01</td>\n",
       "      <td>0.49</td>\n",
       "    </tr>\n",
       "    <tr>\n",
       "      <th>16596</th>\n",
       "      <td>1768</td>\n",
       "      <td>Kaboom!</td>\n",
       "      <td>2600</td>\n",
       "      <td>1980.0</td>\n",
       "      <td>Misc</td>\n",
       "      <td>Activision</td>\n",
       "      <td>1.07</td>\n",
       "      <td>0.07</td>\n",
       "      <td>0.00</td>\n",
       "      <td>0.01</td>\n",
       "      <td>1.15</td>\n",
       "    </tr>\n",
       "    <tr>\n",
       "      <th>16597</th>\n",
       "      <td>545</td>\n",
       "      <td>Missile Command</td>\n",
       "      <td>2600</td>\n",
       "      <td>1980.0</td>\n",
       "      <td>Shooter</td>\n",
       "      <td>Atari</td>\n",
       "      <td>2.56</td>\n",
       "      <td>0.17</td>\n",
       "      <td>0.00</td>\n",
       "      <td>0.03</td>\n",
       "      <td>2.76</td>\n",
       "    </tr>\n",
       "  </tbody>\n",
       "</table>\n",
       "<p>16598 rows × 11 columns</p>\n",
       "</div>"
      ],
      "text/plain": [
       "        Rank                          Name Platform    Year         Genre  \\\n",
       "0      11078  Action Man-Operation Extreme       PS     NaN        Action   \n",
       "1       3219    Advance Wars: Days of Ruin       DS     NaN      Strategy   \n",
       "2       1515                     Adventure     2600     NaN     Adventure   \n",
       "3      16249  Agarest Senki: Re-appearance      PS3     NaN  Role-Playing   \n",
       "4       2115                Air-Sea Battle     2600     NaN       Shooter   \n",
       "...      ...                           ...      ...     ...           ...   \n",
       "16593   1971                      Defender     2600  1980.0          Misc   \n",
       "16594   5368                       Freeway     2600  1980.0        Action   \n",
       "16595   4027                    Ice Hockey     2600  1980.0        Sports   \n",
       "16596   1768                       Kaboom!     2600  1980.0          Misc   \n",
       "16597    545               Missile Command     2600  1980.0       Shooter   \n",
       "\n",
       "          Publisher  NA_Sales  EU_Sales  JP_Sales  Other_Sales  Global_Sales  \n",
       "0               NaN      0.05      0.03      0.00         0.01          0.09  \n",
       "1          Nintendo      0.44      0.13      0.00         0.06          0.63  \n",
       "2             Atari      1.21      0.08      0.00         0.01          1.30  \n",
       "3      Idea Factory      0.00      0.00      0.01         0.00          0.01  \n",
       "4             Atari      0.91      0.06      0.00         0.01          0.98  \n",
       "...             ...       ...       ...       ...          ...           ...  \n",
       "16593         Atari      0.99      0.05      0.00         0.01          1.05  \n",
       "16594    Activision      0.32      0.02      0.00         0.00          0.34  \n",
       "16595    Activision      0.46      0.03      0.00         0.01          0.49  \n",
       "16596    Activision      1.07      0.07      0.00         0.01          1.15  \n",
       "16597         Atari      2.56      0.17      0.00         0.03          2.76  \n",
       "\n",
       "[16598 rows x 11 columns]"
      ]
     },
     "execution_count": 2,
     "metadata": {},
     "output_type": "execute_result"
    }
   ],
   "source": [
    "df = pd.read_csv(\"vgsales.csv\")\n",
    "df"
   ]
  },
  {
   "cell_type": "code",
   "execution_count": 3,
   "id": "437d69c8-3855-40a8-8ef2-fb28329bf62d",
   "metadata": {
    "tags": []
   },
   "outputs": [
    {
     "name": "stdout",
     "output_type": "stream",
     "text": [
      "<class 'pandas.core.frame.DataFrame'>\n",
      "RangeIndex: 16598 entries, 0 to 16597\n",
      "Data columns (total 11 columns):\n",
      " #   Column        Non-Null Count  Dtype  \n",
      "---  ------        --------------  -----  \n",
      " 0   Rank          16598 non-null  int64  \n",
      " 1   Name          16598 non-null  object \n",
      " 2   Platform      16598 non-null  object \n",
      " 3   Year          16327 non-null  float64\n",
      " 4   Genre         16598 non-null  object \n",
      " 5   Publisher     16540 non-null  object \n",
      " 6   NA_Sales      16598 non-null  float64\n",
      " 7   EU_Sales      16598 non-null  float64\n",
      " 8   JP_Sales      16598 non-null  float64\n",
      " 9   Other_Sales   16598 non-null  float64\n",
      " 10  Global_Sales  16598 non-null  float64\n",
      "dtypes: float64(6), int64(1), object(4)\n",
      "memory usage: 1.4+ MB\n"
     ]
    }
   ],
   "source": [
    "df.info() "
   ]
  },
  {
   "cell_type": "code",
   "execution_count": 4,
   "id": "c5f9f6ed-262a-4fb4-97fa-38d1797b3413",
   "metadata": {
    "tags": []
   },
   "outputs": [
    {
     "data": {
      "text/plain": [
       "(16598, 11)"
      ]
     },
     "execution_count": 4,
     "metadata": {},
     "output_type": "execute_result"
    }
   ],
   "source": [
    "df.shape"
   ]
  },
  {
   "cell_type": "code",
   "execution_count": 5,
   "id": "021042ea-808a-42af-9405-6527b9d9a85a",
   "metadata": {
    "tags": []
   },
   "outputs": [
    {
     "data": {
      "text/html": [
       "<div>\n",
       "<style scoped>\n",
       "    .dataframe tbody tr th:only-of-type {\n",
       "        vertical-align: middle;\n",
       "    }\n",
       "\n",
       "    .dataframe tbody tr th {\n",
       "        vertical-align: top;\n",
       "    }\n",
       "\n",
       "    .dataframe thead th {\n",
       "        text-align: right;\n",
       "    }\n",
       "</style>\n",
       "<table border=\"1\" class=\"dataframe\">\n",
       "  <thead>\n",
       "    <tr style=\"text-align: right;\">\n",
       "      <th></th>\n",
       "      <th>Rank</th>\n",
       "      <th>Name</th>\n",
       "      <th>Platform</th>\n",
       "      <th>Year</th>\n",
       "      <th>Genre</th>\n",
       "      <th>Publisher</th>\n",
       "      <th>NA_Sales</th>\n",
       "      <th>EU_Sales</th>\n",
       "      <th>JP_Sales</th>\n",
       "      <th>Other_Sales</th>\n",
       "      <th>Global_Sales</th>\n",
       "    </tr>\n",
       "  </thead>\n",
       "  <tbody>\n",
       "    <tr>\n",
       "      <th>0</th>\n",
       "      <td>False</td>\n",
       "      <td>False</td>\n",
       "      <td>False</td>\n",
       "      <td>True</td>\n",
       "      <td>False</td>\n",
       "      <td>True</td>\n",
       "      <td>False</td>\n",
       "      <td>False</td>\n",
       "      <td>False</td>\n",
       "      <td>False</td>\n",
       "      <td>False</td>\n",
       "    </tr>\n",
       "    <tr>\n",
       "      <th>1</th>\n",
       "      <td>False</td>\n",
       "      <td>False</td>\n",
       "      <td>False</td>\n",
       "      <td>True</td>\n",
       "      <td>False</td>\n",
       "      <td>False</td>\n",
       "      <td>False</td>\n",
       "      <td>False</td>\n",
       "      <td>False</td>\n",
       "      <td>False</td>\n",
       "      <td>False</td>\n",
       "    </tr>\n",
       "    <tr>\n",
       "      <th>2</th>\n",
       "      <td>False</td>\n",
       "      <td>False</td>\n",
       "      <td>False</td>\n",
       "      <td>True</td>\n",
       "      <td>False</td>\n",
       "      <td>False</td>\n",
       "      <td>False</td>\n",
       "      <td>False</td>\n",
       "      <td>False</td>\n",
       "      <td>False</td>\n",
       "      <td>False</td>\n",
       "    </tr>\n",
       "    <tr>\n",
       "      <th>3</th>\n",
       "      <td>False</td>\n",
       "      <td>False</td>\n",
       "      <td>False</td>\n",
       "      <td>True</td>\n",
       "      <td>False</td>\n",
       "      <td>False</td>\n",
       "      <td>False</td>\n",
       "      <td>False</td>\n",
       "      <td>False</td>\n",
       "      <td>False</td>\n",
       "      <td>False</td>\n",
       "    </tr>\n",
       "    <tr>\n",
       "      <th>4</th>\n",
       "      <td>False</td>\n",
       "      <td>False</td>\n",
       "      <td>False</td>\n",
       "      <td>True</td>\n",
       "      <td>False</td>\n",
       "      <td>False</td>\n",
       "      <td>False</td>\n",
       "      <td>False</td>\n",
       "      <td>False</td>\n",
       "      <td>False</td>\n",
       "      <td>False</td>\n",
       "    </tr>\n",
       "  </tbody>\n",
       "</table>\n",
       "</div>"
      ],
      "text/plain": [
       "    Rank   Name  Platform  Year  Genre  Publisher  NA_Sales  EU_Sales  \\\n",
       "0  False  False     False  True  False       True     False     False   \n",
       "1  False  False     False  True  False      False     False     False   \n",
       "2  False  False     False  True  False      False     False     False   \n",
       "3  False  False     False  True  False      False     False     False   \n",
       "4  False  False     False  True  False      False     False     False   \n",
       "\n",
       "   JP_Sales  Other_Sales  Global_Sales  \n",
       "0     False        False         False  \n",
       "1     False        False         False  \n",
       "2     False        False         False  \n",
       "3     False        False         False  \n",
       "4     False        False         False  "
      ]
     },
     "execution_count": 5,
     "metadata": {},
     "output_type": "execute_result"
    }
   ],
   "source": [
    "df_missing = df.isna()\n",
    "df_missing.head()"
   ]
  },
  {
   "cell_type": "code",
   "execution_count": 6,
   "id": "899bc9a6-92ad-471d-a75b-e99e10dd1140",
   "metadata": {
    "tags": []
   },
   "outputs": [
    {
     "data": {
      "text/plain": [
       "Rank              0\n",
       "Name              0\n",
       "Platform          0\n",
       "Year            271\n",
       "Genre             0\n",
       "Publisher        58\n",
       "NA_Sales          0\n",
       "EU_Sales          0\n",
       "JP_Sales          0\n",
       "Other_Sales       0\n",
       "Global_Sales      0\n",
       "dtype: int64"
      ]
     },
     "execution_count": 6,
     "metadata": {},
     "output_type": "execute_result"
    }
   ],
   "source": [
    "df_missing = df_missing.sum()\n",
    "df_missing"
   ]
  },
  {
   "cell_type": "code",
   "execution_count": 7,
   "id": "2829277f-0076-428d-99ca-0eaead365121",
   "metadata": {
    "tags": []
   },
   "outputs": [
    {
     "data": {
      "text/plain": [
       "Rank            0.00\n",
       "Name            0.00\n",
       "Platform        0.00\n",
       "Year            1.63\n",
       "Genre           0.00\n",
       "Publisher       0.35\n",
       "NA_Sales        0.00\n",
       "EU_Sales        0.00\n",
       "JP_Sales        0.00\n",
       "Other_Sales     0.00\n",
       "Global_Sales    0.00\n",
       "dtype: float64"
      ]
     },
     "execution_count": 7,
     "metadata": {},
     "output_type": "execute_result"
    }
   ],
   "source": [
    "df.isna().mean().round(4) * 100 "
   ]
  },
  {
   "cell_type": "code",
   "execution_count": 8,
   "id": "8dd32f90-b5de-4e17-ba40-3fc699e899cb",
   "metadata": {
    "tags": []
   },
   "outputs": [
    {
     "data": {
      "text/html": [
       "<div>\n",
       "<style scoped>\n",
       "    .dataframe tbody tr th:only-of-type {\n",
       "        vertical-align: middle;\n",
       "    }\n",
       "\n",
       "    .dataframe tbody tr th {\n",
       "        vertical-align: top;\n",
       "    }\n",
       "\n",
       "    .dataframe thead th {\n",
       "        text-align: right;\n",
       "    }\n",
       "</style>\n",
       "<table border=\"1\" class=\"dataframe\">\n",
       "  <thead>\n",
       "    <tr style=\"text-align: right;\">\n",
       "      <th></th>\n",
       "      <th>Rank</th>\n",
       "      <th>Year</th>\n",
       "      <th>NA_Sales</th>\n",
       "      <th>EU_Sales</th>\n",
       "      <th>JP_Sales</th>\n",
       "      <th>Other_Sales</th>\n",
       "      <th>Global_Sales</th>\n",
       "    </tr>\n",
       "  </thead>\n",
       "  <tbody>\n",
       "    <tr>\n",
       "      <th>count</th>\n",
       "      <td>16598.000000</td>\n",
       "      <td>16327.000000</td>\n",
       "      <td>16598.000000</td>\n",
       "      <td>16598.000000</td>\n",
       "      <td>16598.000000</td>\n",
       "      <td>16598.000000</td>\n",
       "      <td>16598.000000</td>\n",
       "    </tr>\n",
       "    <tr>\n",
       "      <th>mean</th>\n",
       "      <td>8300.605254</td>\n",
       "      <td>2006.406443</td>\n",
       "      <td>0.264667</td>\n",
       "      <td>0.146652</td>\n",
       "      <td>0.077782</td>\n",
       "      <td>0.048063</td>\n",
       "      <td>0.537441</td>\n",
       "    </tr>\n",
       "    <tr>\n",
       "      <th>std</th>\n",
       "      <td>4791.853933</td>\n",
       "      <td>5.828981</td>\n",
       "      <td>0.816683</td>\n",
       "      <td>0.505351</td>\n",
       "      <td>0.309291</td>\n",
       "      <td>0.188588</td>\n",
       "      <td>1.555028</td>\n",
       "    </tr>\n",
       "    <tr>\n",
       "      <th>min</th>\n",
       "      <td>1.000000</td>\n",
       "      <td>1980.000000</td>\n",
       "      <td>0.000000</td>\n",
       "      <td>0.000000</td>\n",
       "      <td>0.000000</td>\n",
       "      <td>0.000000</td>\n",
       "      <td>0.010000</td>\n",
       "    </tr>\n",
       "    <tr>\n",
       "      <th>25%</th>\n",
       "      <td>4151.250000</td>\n",
       "      <td>2003.000000</td>\n",
       "      <td>0.000000</td>\n",
       "      <td>0.000000</td>\n",
       "      <td>0.000000</td>\n",
       "      <td>0.000000</td>\n",
       "      <td>0.060000</td>\n",
       "    </tr>\n",
       "    <tr>\n",
       "      <th>50%</th>\n",
       "      <td>8300.500000</td>\n",
       "      <td>2007.000000</td>\n",
       "      <td>0.080000</td>\n",
       "      <td>0.020000</td>\n",
       "      <td>0.000000</td>\n",
       "      <td>0.010000</td>\n",
       "      <td>0.170000</td>\n",
       "    </tr>\n",
       "    <tr>\n",
       "      <th>75%</th>\n",
       "      <td>12449.750000</td>\n",
       "      <td>2010.000000</td>\n",
       "      <td>0.240000</td>\n",
       "      <td>0.110000</td>\n",
       "      <td>0.040000</td>\n",
       "      <td>0.040000</td>\n",
       "      <td>0.470000</td>\n",
       "    </tr>\n",
       "    <tr>\n",
       "      <th>max</th>\n",
       "      <td>16600.000000</td>\n",
       "      <td>2020.000000</td>\n",
       "      <td>41.490000</td>\n",
       "      <td>29.020000</td>\n",
       "      <td>10.220000</td>\n",
       "      <td>10.570000</td>\n",
       "      <td>82.740000</td>\n",
       "    </tr>\n",
       "  </tbody>\n",
       "</table>\n",
       "</div>"
      ],
      "text/plain": [
       "               Rank          Year      NA_Sales      EU_Sales      JP_Sales  \\\n",
       "count  16598.000000  16327.000000  16598.000000  16598.000000  16598.000000   \n",
       "mean    8300.605254   2006.406443      0.264667      0.146652      0.077782   \n",
       "std     4791.853933      5.828981      0.816683      0.505351      0.309291   \n",
       "min        1.000000   1980.000000      0.000000      0.000000      0.000000   \n",
       "25%     4151.250000   2003.000000      0.000000      0.000000      0.000000   \n",
       "50%     8300.500000   2007.000000      0.080000      0.020000      0.000000   \n",
       "75%    12449.750000   2010.000000      0.240000      0.110000      0.040000   \n",
       "max    16600.000000   2020.000000     41.490000     29.020000     10.220000   \n",
       "\n",
       "        Other_Sales  Global_Sales  \n",
       "count  16598.000000  16598.000000  \n",
       "mean       0.048063      0.537441  \n",
       "std        0.188588      1.555028  \n",
       "min        0.000000      0.010000  \n",
       "25%        0.000000      0.060000  \n",
       "50%        0.010000      0.170000  \n",
       "75%        0.040000      0.470000  \n",
       "max       10.570000     82.740000  "
      ]
     },
     "execution_count": 8,
     "metadata": {},
     "output_type": "execute_result"
    }
   ],
   "source": [
    "df.describe()"
   ]
  },
  {
   "cell_type": "markdown",
   "id": "744080d7-695b-4449-b499-089665d93030",
   "metadata": {},
   "source": [
    "<h1> Renaming and droppping columns </h1>"
   ]
  },
  {
   "cell_type": "code",
   "execution_count": 9,
   "id": "7e0fd5ce-5102-4a59-8f7a-c4bd0668d4a8",
   "metadata": {
    "tags": []
   },
   "outputs": [
    {
     "name": "stdout",
     "output_type": "stream",
     "text": [
      "Index(['Rank', 'Name', 'Platform', 'Year', 'Genre', 'Publisher', 'NA_Sales',\n",
      "       'EU_Sales', 'JP_Sales', 'Other_Sales', 'Global_Sales'],\n",
      "      dtype='object')\n"
     ]
    }
   ],
   "source": [
    "print(df.columns)"
   ]
  },
  {
   "cell_type": "markdown",
   "id": "11694d49-61b7-4189-8159-ef4d031cda07",
   "metadata": {},
   "source": [
    "<h4> In this report, I will be working on predicting the global sales for video games, which is the sum of all other sales in the Northern America, Europe, Japan and Other sales columns. Therefore, I will be droppping those in order for the machine learning algorithm to focus solely on the global sales. "
   ]
  },
  {
   "cell_type": "code",
   "execution_count": 10,
   "id": "212c8c83-3cb3-4260-bec3-37c85bf48b61",
   "metadata": {
    "tags": []
   },
   "outputs": [
    {
     "data": {
      "text/html": [
       "<div>\n",
       "<style scoped>\n",
       "    .dataframe tbody tr th:only-of-type {\n",
       "        vertical-align: middle;\n",
       "    }\n",
       "\n",
       "    .dataframe tbody tr th {\n",
       "        vertical-align: top;\n",
       "    }\n",
       "\n",
       "    .dataframe thead th {\n",
       "        text-align: right;\n",
       "    }\n",
       "</style>\n",
       "<table border=\"1\" class=\"dataframe\">\n",
       "  <thead>\n",
       "    <tr style=\"text-align: right;\">\n",
       "      <th></th>\n",
       "      <th>Name</th>\n",
       "      <th>Platform</th>\n",
       "      <th>Year</th>\n",
       "      <th>Genre</th>\n",
       "      <th>Publisher</th>\n",
       "      <th>Global_Sales</th>\n",
       "    </tr>\n",
       "  </thead>\n",
       "  <tbody>\n",
       "    <tr>\n",
       "      <th>0</th>\n",
       "      <td>Action Man-Operation Extreme</td>\n",
       "      <td>PS</td>\n",
       "      <td>NaN</td>\n",
       "      <td>Action</td>\n",
       "      <td>NaN</td>\n",
       "      <td>0.09</td>\n",
       "    </tr>\n",
       "    <tr>\n",
       "      <th>1</th>\n",
       "      <td>Advance Wars: Days of Ruin</td>\n",
       "      <td>DS</td>\n",
       "      <td>NaN</td>\n",
       "      <td>Strategy</td>\n",
       "      <td>Nintendo</td>\n",
       "      <td>0.63</td>\n",
       "    </tr>\n",
       "    <tr>\n",
       "      <th>2</th>\n",
       "      <td>Adventure</td>\n",
       "      <td>2600</td>\n",
       "      <td>NaN</td>\n",
       "      <td>Adventure</td>\n",
       "      <td>Atari</td>\n",
       "      <td>1.30</td>\n",
       "    </tr>\n",
       "  </tbody>\n",
       "</table>\n",
       "</div>"
      ],
      "text/plain": [
       "                           Name Platform  Year      Genre Publisher  \\\n",
       "0  Action Man-Operation Extreme       PS   NaN     Action       NaN   \n",
       "1    Advance Wars: Days of Ruin       DS   NaN   Strategy  Nintendo   \n",
       "2                     Adventure     2600   NaN  Adventure     Atari   \n",
       "\n",
       "   Global_Sales  \n",
       "0          0.09  \n",
       "1          0.63  \n",
       "2          1.30  "
      ]
     },
     "execution_count": 10,
     "metadata": {},
     "output_type": "execute_result"
    }
   ],
   "source": [
    "columns_to_goaway = ['Rank', 'NA_Sales',\n",
    "       'EU_Sales', 'JP_Sales', 'Other_Sales']\n",
    "\n",
    "df_small = df.drop(columns=columns_to_goaway)\n",
    "df_small.head(3)"
   ]
  },
  {
   "cell_type": "code",
   "execution_count": 11,
   "id": "8bb55a69-b03c-4cfd-9a0f-308675a61480",
   "metadata": {
    "tags": []
   },
   "outputs": [
    {
     "name": "stdout",
     "output_type": "stream",
     "text": [
      "Index(['name', 'platform', 'year', 'genre', 'publisher', 'global_sales'], dtype='object')\n"
     ]
    }
   ],
   "source": [
    "df_small.rename(columns = {'Name':'name', 'Platform':'platform', 'Year':'year', 'Genre':'genre', 'Publisher':'publisher', 'Global_Sales':'global_sales'}, inplace = True)\n",
    "print(df_small.columns)"
   ]
  },
  {
   "cell_type": "markdown",
   "id": "b5c72feb-8c5c-4916-970d-23029a767d03",
   "metadata": {},
   "source": [
    "<h1> Missing data </h1>"
   ]
  },
  {
   "cell_type": "markdown",
   "id": "4243066f-5204-4c58-ad79-dd07d6bc0e8f",
   "metadata": {},
   "source": [
    "<h3> There are several ways to deal with missing data in a data science report. According to the Chollet (2021), \"if a feature is numerical, avoid inputting an arbitraty value like 0, because it may create discontinuity in the latent space formed by our features, making it harder for a model trained on it to generalize\". \n",
    "    \n",
    "The author continue to highlight that I could replace the missing value with the average of the median value or the mean value for a feature in the dataset. However, given the nature of it (years of publication and publishers' names), it would be considered tempering with the dataset, as the missing numerical values cannot be aproximated. \n",
    "    \n",
    "As a reminder, given the high number of entries in our data (over 16,000) and the missing data being a small percentage of that, I will be dropping the missing values. "
   ]
  },
  {
   "cell_type": "code",
   "execution_count": 12,
   "id": "63260421-baa3-4ca1-9987-83a9fa14f140",
   "metadata": {
    "tags": []
   },
   "outputs": [
    {
     "data": {
      "text/html": [
       "<div>\n",
       "<style scoped>\n",
       "    .dataframe tbody tr th:only-of-type {\n",
       "        vertical-align: middle;\n",
       "    }\n",
       "\n",
       "    .dataframe tbody tr th {\n",
       "        vertical-align: top;\n",
       "    }\n",
       "\n",
       "    .dataframe thead th {\n",
       "        text-align: right;\n",
       "    }\n",
       "</style>\n",
       "<table border=\"1\" class=\"dataframe\">\n",
       "  <thead>\n",
       "    <tr style=\"text-align: right;\">\n",
       "      <th></th>\n",
       "      <th>name</th>\n",
       "      <th>platform</th>\n",
       "      <th>year</th>\n",
       "      <th>genre</th>\n",
       "      <th>publisher</th>\n",
       "      <th>global_sales</th>\n",
       "    </tr>\n",
       "  </thead>\n",
       "  <tbody>\n",
       "    <tr>\n",
       "      <th>271</th>\n",
       "      <td>Imagine: Makeup Artist</td>\n",
       "      <td>DS</td>\n",
       "      <td>2020.0</td>\n",
       "      <td>Simulation</td>\n",
       "      <td>Ubisoft</td>\n",
       "      <td>0.29</td>\n",
       "    </tr>\n",
       "    <tr>\n",
       "      <th>272</th>\n",
       "      <td>Brothers Conflict: Precious Baby</td>\n",
       "      <td>PSV</td>\n",
       "      <td>2017.0</td>\n",
       "      <td>Action</td>\n",
       "      <td>Idea Factory</td>\n",
       "      <td>0.01</td>\n",
       "    </tr>\n",
       "    <tr>\n",
       "      <th>273</th>\n",
       "      <td>Phantasy Star Online 2 Episode 4: Deluxe Package</td>\n",
       "      <td>PS4</td>\n",
       "      <td>2017.0</td>\n",
       "      <td>Role-Playing</td>\n",
       "      <td>Sega</td>\n",
       "      <td>0.03</td>\n",
       "    </tr>\n",
       "    <tr>\n",
       "      <th>274</th>\n",
       "      <td>Phantasy Star Online 2 Episode 4: Deluxe Package</td>\n",
       "      <td>PSV</td>\n",
       "      <td>2017.0</td>\n",
       "      <td>Role-Playing</td>\n",
       "      <td>Sega</td>\n",
       "      <td>0.01</td>\n",
       "    </tr>\n",
       "    <tr>\n",
       "      <th>275</th>\n",
       "      <td>12-Sai. Koisuru Diary</td>\n",
       "      <td>3DS</td>\n",
       "      <td>2016.0</td>\n",
       "      <td>Adventure</td>\n",
       "      <td>Happinet</td>\n",
       "      <td>0.04</td>\n",
       "    </tr>\n",
       "    <tr>\n",
       "      <th>...</th>\n",
       "      <td>...</td>\n",
       "      <td>...</td>\n",
       "      <td>...</td>\n",
       "      <td>...</td>\n",
       "      <td>...</td>\n",
       "      <td>...</td>\n",
       "    </tr>\n",
       "    <tr>\n",
       "      <th>16593</th>\n",
       "      <td>Defender</td>\n",
       "      <td>2600</td>\n",
       "      <td>1980.0</td>\n",
       "      <td>Misc</td>\n",
       "      <td>Atari</td>\n",
       "      <td>1.05</td>\n",
       "    </tr>\n",
       "    <tr>\n",
       "      <th>16594</th>\n",
       "      <td>Freeway</td>\n",
       "      <td>2600</td>\n",
       "      <td>1980.0</td>\n",
       "      <td>Action</td>\n",
       "      <td>Activision</td>\n",
       "      <td>0.34</td>\n",
       "    </tr>\n",
       "    <tr>\n",
       "      <th>16595</th>\n",
       "      <td>Ice Hockey</td>\n",
       "      <td>2600</td>\n",
       "      <td>1980.0</td>\n",
       "      <td>Sports</td>\n",
       "      <td>Activision</td>\n",
       "      <td>0.49</td>\n",
       "    </tr>\n",
       "    <tr>\n",
       "      <th>16596</th>\n",
       "      <td>Kaboom!</td>\n",
       "      <td>2600</td>\n",
       "      <td>1980.0</td>\n",
       "      <td>Misc</td>\n",
       "      <td>Activision</td>\n",
       "      <td>1.15</td>\n",
       "    </tr>\n",
       "    <tr>\n",
       "      <th>16597</th>\n",
       "      <td>Missile Command</td>\n",
       "      <td>2600</td>\n",
       "      <td>1980.0</td>\n",
       "      <td>Shooter</td>\n",
       "      <td>Atari</td>\n",
       "      <td>2.76</td>\n",
       "    </tr>\n",
       "  </tbody>\n",
       "</table>\n",
       "<p>16291 rows × 6 columns</p>\n",
       "</div>"
      ],
      "text/plain": [
       "                                                   name platform    year  \\\n",
       "271                              Imagine: Makeup Artist       DS  2020.0   \n",
       "272                    Brothers Conflict: Precious Baby      PSV  2017.0   \n",
       "273    Phantasy Star Online 2 Episode 4: Deluxe Package      PS4  2017.0   \n",
       "274    Phantasy Star Online 2 Episode 4: Deluxe Package      PSV  2017.0   \n",
       "275                               12-Sai. Koisuru Diary      3DS  2016.0   \n",
       "...                                                 ...      ...     ...   \n",
       "16593                                          Defender     2600  1980.0   \n",
       "16594                                           Freeway     2600  1980.0   \n",
       "16595                                        Ice Hockey     2600  1980.0   \n",
       "16596                                           Kaboom!     2600  1980.0   \n",
       "16597                                   Missile Command     2600  1980.0   \n",
       "\n",
       "              genre     publisher  global_sales  \n",
       "271      Simulation       Ubisoft          0.29  \n",
       "272          Action  Idea Factory          0.01  \n",
       "273    Role-Playing          Sega          0.03  \n",
       "274    Role-Playing          Sega          0.01  \n",
       "275       Adventure      Happinet          0.04  \n",
       "...             ...           ...           ...  \n",
       "16593          Misc         Atari          1.05  \n",
       "16594        Action    Activision          0.34  \n",
       "16595        Sports    Activision          0.49  \n",
       "16596          Misc    Activision          1.15  \n",
       "16597       Shooter         Atari          2.76  \n",
       "\n",
       "[16291 rows x 6 columns]"
      ]
     },
     "execution_count": 12,
     "metadata": {},
     "output_type": "execute_result"
    }
   ],
   "source": [
    "df_clean = df_small.dropna()\n",
    "df_clean"
   ]
  },
  {
   "cell_type": "markdown",
   "id": "88b1b04c-fb0a-4f2a-9964-bd67138a0041",
   "metadata": {},
   "source": [
    "<h1> Converting data "
   ]
  },
  {
   "cell_type": "markdown",
   "id": "3d81210b-5406-4c18-88b4-4ac638a8fcbd",
   "metadata": {},
   "source": [
    "<h3> In order for the machine learning model to be able to feed on the data, the entries need to be the either categorical or numerical (float or integer). Our global_sales is already a float, so for this purpose I will be converting the string columns. "
   ]
  },
  {
   "cell_type": "code",
   "execution_count": 13,
   "id": "dd7cd7b4-3a3f-4bbf-9ea1-9f39c0e5248b",
   "metadata": {
    "tags": []
   },
   "outputs": [
    {
     "data": {
      "text/plain": [
       "name             object\n",
       "platform         object\n",
       "year            float64\n",
       "genre            object\n",
       "publisher        object\n",
       "global_sales    float64\n",
       "dtype: object"
      ]
     },
     "execution_count": 13,
     "metadata": {},
     "output_type": "execute_result"
    }
   ],
   "source": [
    "df_clean.dtypes"
   ]
  },
  {
   "cell_type": "code",
   "execution_count": 14,
   "id": "c23f1ded-8782-4ca4-b7d6-661a8945777b",
   "metadata": {
    "tags": []
   },
   "outputs": [
    {
     "name": "stderr",
     "output_type": "stream",
     "text": [
      "C:\\Users\\nicol\\AppData\\Local\\Temp\\ipykernel_31248\\361848667.py:2: SettingWithCopyWarning: \n",
      "A value is trying to be set on a copy of a slice from a DataFrame.\n",
      "Try using .loc[row_indexer,col_indexer] = value instead\n",
      "\n",
      "See the caveats in the documentation: https://pandas.pydata.org/pandas-docs/stable/user_guide/indexing.html#returning-a-view-versus-a-copy\n",
      "  df_clean[datatype_convert] = df_clean[datatype_convert].astype('category')\n"
     ]
    }
   ],
   "source": [
    "datatype_convert = ['name', 'platform','genre','publisher']\n",
    "df_clean[datatype_convert] = df_clean[datatype_convert].astype('category')"
   ]
  },
  {
   "cell_type": "code",
   "execution_count": 15,
   "id": "ef2e4c88-e193-4a61-92e0-2c65d3c31306",
   "metadata": {
    "tags": []
   },
   "outputs": [
    {
     "data": {
      "text/html": [
       "<div>\n",
       "<style scoped>\n",
       "    .dataframe tbody tr th:only-of-type {\n",
       "        vertical-align: middle;\n",
       "    }\n",
       "\n",
       "    .dataframe tbody tr th {\n",
       "        vertical-align: top;\n",
       "    }\n",
       "\n",
       "    .dataframe thead th {\n",
       "        text-align: right;\n",
       "    }\n",
       "</style>\n",
       "<table border=\"1\" class=\"dataframe\">\n",
       "  <thead>\n",
       "    <tr style=\"text-align: right;\">\n",
       "      <th></th>\n",
       "      <th>name</th>\n",
       "      <th>platform</th>\n",
       "      <th>year</th>\n",
       "      <th>genre</th>\n",
       "      <th>publisher</th>\n",
       "      <th>global_sales</th>\n",
       "    </tr>\n",
       "  </thead>\n",
       "  <tbody>\n",
       "    <tr>\n",
       "      <th>271</th>\n",
       "      <td>Imagine: Makeup Artist</td>\n",
       "      <td>DS</td>\n",
       "      <td>2020.0</td>\n",
       "      <td>Simulation</td>\n",
       "      <td>Ubisoft</td>\n",
       "      <td>0.29</td>\n",
       "    </tr>\n",
       "    <tr>\n",
       "      <th>272</th>\n",
       "      <td>Brothers Conflict: Precious Baby</td>\n",
       "      <td>PSV</td>\n",
       "      <td>2017.0</td>\n",
       "      <td>Action</td>\n",
       "      <td>Idea Factory</td>\n",
       "      <td>0.01</td>\n",
       "    </tr>\n",
       "    <tr>\n",
       "      <th>273</th>\n",
       "      <td>Phantasy Star Online 2 Episode 4: Deluxe Package</td>\n",
       "      <td>PS4</td>\n",
       "      <td>2017.0</td>\n",
       "      <td>Role-Playing</td>\n",
       "      <td>Sega</td>\n",
       "      <td>0.03</td>\n",
       "    </tr>\n",
       "    <tr>\n",
       "      <th>274</th>\n",
       "      <td>Phantasy Star Online 2 Episode 4: Deluxe Package</td>\n",
       "      <td>PSV</td>\n",
       "      <td>2017.0</td>\n",
       "      <td>Role-Playing</td>\n",
       "      <td>Sega</td>\n",
       "      <td>0.01</td>\n",
       "    </tr>\n",
       "    <tr>\n",
       "      <th>275</th>\n",
       "      <td>12-Sai. Koisuru Diary</td>\n",
       "      <td>3DS</td>\n",
       "      <td>2016.0</td>\n",
       "      <td>Adventure</td>\n",
       "      <td>Happinet</td>\n",
       "      <td>0.04</td>\n",
       "    </tr>\n",
       "    <tr>\n",
       "      <th>...</th>\n",
       "      <td>...</td>\n",
       "      <td>...</td>\n",
       "      <td>...</td>\n",
       "      <td>...</td>\n",
       "      <td>...</td>\n",
       "      <td>...</td>\n",
       "    </tr>\n",
       "    <tr>\n",
       "      <th>16593</th>\n",
       "      <td>Defender</td>\n",
       "      <td>2600</td>\n",
       "      <td>1980.0</td>\n",
       "      <td>Misc</td>\n",
       "      <td>Atari</td>\n",
       "      <td>1.05</td>\n",
       "    </tr>\n",
       "    <tr>\n",
       "      <th>16594</th>\n",
       "      <td>Freeway</td>\n",
       "      <td>2600</td>\n",
       "      <td>1980.0</td>\n",
       "      <td>Action</td>\n",
       "      <td>Activision</td>\n",
       "      <td>0.34</td>\n",
       "    </tr>\n",
       "    <tr>\n",
       "      <th>16595</th>\n",
       "      <td>Ice Hockey</td>\n",
       "      <td>2600</td>\n",
       "      <td>1980.0</td>\n",
       "      <td>Sports</td>\n",
       "      <td>Activision</td>\n",
       "      <td>0.49</td>\n",
       "    </tr>\n",
       "    <tr>\n",
       "      <th>16596</th>\n",
       "      <td>Kaboom!</td>\n",
       "      <td>2600</td>\n",
       "      <td>1980.0</td>\n",
       "      <td>Misc</td>\n",
       "      <td>Activision</td>\n",
       "      <td>1.15</td>\n",
       "    </tr>\n",
       "    <tr>\n",
       "      <th>16597</th>\n",
       "      <td>Missile Command</td>\n",
       "      <td>2600</td>\n",
       "      <td>1980.0</td>\n",
       "      <td>Shooter</td>\n",
       "      <td>Atari</td>\n",
       "      <td>2.76</td>\n",
       "    </tr>\n",
       "  </tbody>\n",
       "</table>\n",
       "<p>16291 rows × 6 columns</p>\n",
       "</div>"
      ],
      "text/plain": [
       "                                                   name platform    year  \\\n",
       "271                              Imagine: Makeup Artist       DS  2020.0   \n",
       "272                    Brothers Conflict: Precious Baby      PSV  2017.0   \n",
       "273    Phantasy Star Online 2 Episode 4: Deluxe Package      PS4  2017.0   \n",
       "274    Phantasy Star Online 2 Episode 4: Deluxe Package      PSV  2017.0   \n",
       "275                               12-Sai. Koisuru Diary      3DS  2016.0   \n",
       "...                                                 ...      ...     ...   \n",
       "16593                                          Defender     2600  1980.0   \n",
       "16594                                           Freeway     2600  1980.0   \n",
       "16595                                        Ice Hockey     2600  1980.0   \n",
       "16596                                           Kaboom!     2600  1980.0   \n",
       "16597                                   Missile Command     2600  1980.0   \n",
       "\n",
       "              genre     publisher  global_sales  \n",
       "271      Simulation       Ubisoft          0.29  \n",
       "272          Action  Idea Factory          0.01  \n",
       "273    Role-Playing          Sega          0.03  \n",
       "274    Role-Playing          Sega          0.01  \n",
       "275       Adventure      Happinet          0.04  \n",
       "...             ...           ...           ...  \n",
       "16593          Misc         Atari          1.05  \n",
       "16594        Action    Activision          0.34  \n",
       "16595        Sports    Activision          0.49  \n",
       "16596          Misc    Activision          1.15  \n",
       "16597       Shooter         Atari          2.76  \n",
       "\n",
       "[16291 rows x 6 columns]"
      ]
     },
     "execution_count": 15,
     "metadata": {},
     "output_type": "execute_result"
    }
   ],
   "source": [
    "df_clean"
   ]
  },
  {
   "cell_type": "markdown",
   "id": "249ec305-83fd-41d8-bb84-585b96fe95d9",
   "metadata": {},
   "source": [
    "<h1> Encoding of categorical columns </h1>"
   ]
  },
  {
   "cell_type": "markdown",
   "id": "3fdc38df-0e06-4585-9bd7-c654548a3759",
   "metadata": {},
   "source": [
    "<h3> In this report, my target valuable is global_sales. I will not be encoding or standardizing the target. The target variable represents the variable you are trying to predict, and its scale will not affect the behavior of the machine learning models I am working with. This is due to the fact that, my models can predict based on relationships and differences in values rather than absolute values.\n",
    "\n",
    "Therefore, I will encode the categorical columns with fit_transform in order for the machine learning model to be able to understand the data and learn from it. Essentially, it is translating in a language that the model can perceive. "
   ]
  },
  {
   "cell_type": "code",
   "execution_count": 16,
   "id": "f4030920-6506-42ae-9a95-50bfb0b2efb5",
   "metadata": {
    "tags": []
   },
   "outputs": [
    {
     "name": "stderr",
     "output_type": "stream",
     "text": [
      "C:\\Users\\nicol\\AppData\\Local\\Temp\\ipykernel_31248\\1993833263.py:3: SettingWithCopyWarning: \n",
      "A value is trying to be set on a copy of a slice from a DataFrame.\n",
      "Try using .loc[row_indexer,col_indexer] = value instead\n",
      "\n",
      "See the caveats in the documentation: https://pandas.pydata.org/pandas-docs/stable/user_guide/indexing.html#returning-a-view-versus-a-copy\n",
      "  df_clean['genre_encoded'] = label_encoder_genre.fit_transform(df_clean['genre'])\n"
     ]
    },
    {
     "data": {
      "text/html": [
       "<div>\n",
       "<style scoped>\n",
       "    .dataframe tbody tr th:only-of-type {\n",
       "        vertical-align: middle;\n",
       "    }\n",
       "\n",
       "    .dataframe tbody tr th {\n",
       "        vertical-align: top;\n",
       "    }\n",
       "\n",
       "    .dataframe thead th {\n",
       "        text-align: right;\n",
       "    }\n",
       "</style>\n",
       "<table border=\"1\" class=\"dataframe\">\n",
       "  <thead>\n",
       "    <tr style=\"text-align: right;\">\n",
       "      <th></th>\n",
       "      <th>name</th>\n",
       "      <th>platform</th>\n",
       "      <th>year</th>\n",
       "      <th>genre</th>\n",
       "      <th>publisher</th>\n",
       "      <th>global_sales</th>\n",
       "      <th>genre_encoded</th>\n",
       "    </tr>\n",
       "  </thead>\n",
       "  <tbody>\n",
       "    <tr>\n",
       "      <th>271</th>\n",
       "      <td>Imagine: Makeup Artist</td>\n",
       "      <td>DS</td>\n",
       "      <td>2020.0</td>\n",
       "      <td>Simulation</td>\n",
       "      <td>Ubisoft</td>\n",
       "      <td>0.29</td>\n",
       "      <td>9</td>\n",
       "    </tr>\n",
       "    <tr>\n",
       "      <th>272</th>\n",
       "      <td>Brothers Conflict: Precious Baby</td>\n",
       "      <td>PSV</td>\n",
       "      <td>2017.0</td>\n",
       "      <td>Action</td>\n",
       "      <td>Idea Factory</td>\n",
       "      <td>0.01</td>\n",
       "      <td>0</td>\n",
       "    </tr>\n",
       "    <tr>\n",
       "      <th>273</th>\n",
       "      <td>Phantasy Star Online 2 Episode 4: Deluxe Package</td>\n",
       "      <td>PS4</td>\n",
       "      <td>2017.0</td>\n",
       "      <td>Role-Playing</td>\n",
       "      <td>Sega</td>\n",
       "      <td>0.03</td>\n",
       "      <td>7</td>\n",
       "    </tr>\n",
       "    <tr>\n",
       "      <th>274</th>\n",
       "      <td>Phantasy Star Online 2 Episode 4: Deluxe Package</td>\n",
       "      <td>PSV</td>\n",
       "      <td>2017.0</td>\n",
       "      <td>Role-Playing</td>\n",
       "      <td>Sega</td>\n",
       "      <td>0.01</td>\n",
       "      <td>7</td>\n",
       "    </tr>\n",
       "    <tr>\n",
       "      <th>275</th>\n",
       "      <td>12-Sai. Koisuru Diary</td>\n",
       "      <td>3DS</td>\n",
       "      <td>2016.0</td>\n",
       "      <td>Adventure</td>\n",
       "      <td>Happinet</td>\n",
       "      <td>0.04</td>\n",
       "      <td>1</td>\n",
       "    </tr>\n",
       "    <tr>\n",
       "      <th>...</th>\n",
       "      <td>...</td>\n",
       "      <td>...</td>\n",
       "      <td>...</td>\n",
       "      <td>...</td>\n",
       "      <td>...</td>\n",
       "      <td>...</td>\n",
       "      <td>...</td>\n",
       "    </tr>\n",
       "    <tr>\n",
       "      <th>16593</th>\n",
       "      <td>Defender</td>\n",
       "      <td>2600</td>\n",
       "      <td>1980.0</td>\n",
       "      <td>Misc</td>\n",
       "      <td>Atari</td>\n",
       "      <td>1.05</td>\n",
       "      <td>3</td>\n",
       "    </tr>\n",
       "    <tr>\n",
       "      <th>16594</th>\n",
       "      <td>Freeway</td>\n",
       "      <td>2600</td>\n",
       "      <td>1980.0</td>\n",
       "      <td>Action</td>\n",
       "      <td>Activision</td>\n",
       "      <td>0.34</td>\n",
       "      <td>0</td>\n",
       "    </tr>\n",
       "    <tr>\n",
       "      <th>16595</th>\n",
       "      <td>Ice Hockey</td>\n",
       "      <td>2600</td>\n",
       "      <td>1980.0</td>\n",
       "      <td>Sports</td>\n",
       "      <td>Activision</td>\n",
       "      <td>0.49</td>\n",
       "      <td>10</td>\n",
       "    </tr>\n",
       "    <tr>\n",
       "      <th>16596</th>\n",
       "      <td>Kaboom!</td>\n",
       "      <td>2600</td>\n",
       "      <td>1980.0</td>\n",
       "      <td>Misc</td>\n",
       "      <td>Activision</td>\n",
       "      <td>1.15</td>\n",
       "      <td>3</td>\n",
       "    </tr>\n",
       "    <tr>\n",
       "      <th>16597</th>\n",
       "      <td>Missile Command</td>\n",
       "      <td>2600</td>\n",
       "      <td>1980.0</td>\n",
       "      <td>Shooter</td>\n",
       "      <td>Atari</td>\n",
       "      <td>2.76</td>\n",
       "      <td>8</td>\n",
       "    </tr>\n",
       "  </tbody>\n",
       "</table>\n",
       "<p>16291 rows × 7 columns</p>\n",
       "</div>"
      ],
      "text/plain": [
       "                                                   name platform    year  \\\n",
       "271                              Imagine: Makeup Artist       DS  2020.0   \n",
       "272                    Brothers Conflict: Precious Baby      PSV  2017.0   \n",
       "273    Phantasy Star Online 2 Episode 4: Deluxe Package      PS4  2017.0   \n",
       "274    Phantasy Star Online 2 Episode 4: Deluxe Package      PSV  2017.0   \n",
       "275                               12-Sai. Koisuru Diary      3DS  2016.0   \n",
       "...                                                 ...      ...     ...   \n",
       "16593                                          Defender     2600  1980.0   \n",
       "16594                                           Freeway     2600  1980.0   \n",
       "16595                                        Ice Hockey     2600  1980.0   \n",
       "16596                                           Kaboom!     2600  1980.0   \n",
       "16597                                   Missile Command     2600  1980.0   \n",
       "\n",
       "              genre     publisher  global_sales  genre_encoded  \n",
       "271      Simulation       Ubisoft          0.29              9  \n",
       "272          Action  Idea Factory          0.01              0  \n",
       "273    Role-Playing          Sega          0.03              7  \n",
       "274    Role-Playing          Sega          0.01              7  \n",
       "275       Adventure      Happinet          0.04              1  \n",
       "...             ...           ...           ...            ...  \n",
       "16593          Misc         Atari          1.05              3  \n",
       "16594        Action    Activision          0.34              0  \n",
       "16595        Sports    Activision          0.49             10  \n",
       "16596          Misc    Activision          1.15              3  \n",
       "16597       Shooter         Atari          2.76              8  \n",
       "\n",
       "[16291 rows x 7 columns]"
      ]
     },
     "execution_count": 16,
     "metadata": {},
     "output_type": "execute_result"
    }
   ],
   "source": [
    "# Label encoding for 'genre'\n",
    "label_encoder_genre = LabelEncoder()\n",
    "df_clean['genre_encoded'] = label_encoder_genre.fit_transform(df_clean['genre'])\n",
    "df_clean"
   ]
  },
  {
   "cell_type": "code",
   "execution_count": 17,
   "id": "3ab97dc2-2db3-43da-89de-a92613ca8982",
   "metadata": {
    "tags": []
   },
   "outputs": [
    {
     "name": "stderr",
     "output_type": "stream",
     "text": [
      "C:\\Users\\nicol\\AppData\\Local\\Temp\\ipykernel_31248\\670228915.py:3: SettingWithCopyWarning: \n",
      "A value is trying to be set on a copy of a slice from a DataFrame.\n",
      "Try using .loc[row_indexer,col_indexer] = value instead\n",
      "\n",
      "See the caveats in the documentation: https://pandas.pydata.org/pandas-docs/stable/user_guide/indexing.html#returning-a-view-versus-a-copy\n",
      "  df_clean['name_encoded'] = label_encoder_genre.fit_transform(df_clean['name'])\n"
     ]
    },
    {
     "data": {
      "text/html": [
       "<div>\n",
       "<style scoped>\n",
       "    .dataframe tbody tr th:only-of-type {\n",
       "        vertical-align: middle;\n",
       "    }\n",
       "\n",
       "    .dataframe tbody tr th {\n",
       "        vertical-align: top;\n",
       "    }\n",
       "\n",
       "    .dataframe thead th {\n",
       "        text-align: right;\n",
       "    }\n",
       "</style>\n",
       "<table border=\"1\" class=\"dataframe\">\n",
       "  <thead>\n",
       "    <tr style=\"text-align: right;\">\n",
       "      <th></th>\n",
       "      <th>name</th>\n",
       "      <th>platform</th>\n",
       "      <th>year</th>\n",
       "      <th>genre</th>\n",
       "      <th>publisher</th>\n",
       "      <th>global_sales</th>\n",
       "      <th>genre_encoded</th>\n",
       "      <th>name_encoded</th>\n",
       "    </tr>\n",
       "  </thead>\n",
       "  <tbody>\n",
       "    <tr>\n",
       "      <th>271</th>\n",
       "      <td>Imagine: Makeup Artist</td>\n",
       "      <td>DS</td>\n",
       "      <td>2020.0</td>\n",
       "      <td>Simulation</td>\n",
       "      <td>Ubisoft</td>\n",
       "      <td>0.29</td>\n",
       "      <td>9</td>\n",
       "      <td>4240</td>\n",
       "    </tr>\n",
       "    <tr>\n",
       "      <th>272</th>\n",
       "      <td>Brothers Conflict: Precious Baby</td>\n",
       "      <td>PSV</td>\n",
       "      <td>2017.0</td>\n",
       "      <td>Action</td>\n",
       "      <td>Idea Factory</td>\n",
       "      <td>0.01</td>\n",
       "      <td>0</td>\n",
       "      <td>1044</td>\n",
       "    </tr>\n",
       "    <tr>\n",
       "      <th>273</th>\n",
       "      <td>Phantasy Star Online 2 Episode 4: Deluxe Package</td>\n",
       "      <td>PS4</td>\n",
       "      <td>2017.0</td>\n",
       "      <td>Role-Playing</td>\n",
       "      <td>Sega</td>\n",
       "      <td>0.03</td>\n",
       "      <td>7</td>\n",
       "      <td>7098</td>\n",
       "    </tr>\n",
       "    <tr>\n",
       "      <th>274</th>\n",
       "      <td>Phantasy Star Online 2 Episode 4: Deluxe Package</td>\n",
       "      <td>PSV</td>\n",
       "      <td>2017.0</td>\n",
       "      <td>Role-Playing</td>\n",
       "      <td>Sega</td>\n",
       "      <td>0.01</td>\n",
       "      <td>7</td>\n",
       "      <td>7098</td>\n",
       "    </tr>\n",
       "    <tr>\n",
       "      <th>275</th>\n",
       "      <td>12-Sai. Koisuru Diary</td>\n",
       "      <td>3DS</td>\n",
       "      <td>2016.0</td>\n",
       "      <td>Adventure</td>\n",
       "      <td>Happinet</td>\n",
       "      <td>0.04</td>\n",
       "      <td>1</td>\n",
       "      <td>30</td>\n",
       "    </tr>\n",
       "    <tr>\n",
       "      <th>...</th>\n",
       "      <td>...</td>\n",
       "      <td>...</td>\n",
       "      <td>...</td>\n",
       "      <td>...</td>\n",
       "      <td>...</td>\n",
       "      <td>...</td>\n",
       "      <td>...</td>\n",
       "      <td>...</td>\n",
       "    </tr>\n",
       "    <tr>\n",
       "      <th>16593</th>\n",
       "      <td>Defender</td>\n",
       "      <td>2600</td>\n",
       "      <td>1980.0</td>\n",
       "      <td>Misc</td>\n",
       "      <td>Atari</td>\n",
       "      <td>1.05</td>\n",
       "      <td>3</td>\n",
       "      <td>1979</td>\n",
       "    </tr>\n",
       "    <tr>\n",
       "      <th>16594</th>\n",
       "      <td>Freeway</td>\n",
       "      <td>2600</td>\n",
       "      <td>1980.0</td>\n",
       "      <td>Action</td>\n",
       "      <td>Activision</td>\n",
       "      <td>0.34</td>\n",
       "      <td>0</td>\n",
       "      <td>3263</td>\n",
       "    </tr>\n",
       "    <tr>\n",
       "      <th>16595</th>\n",
       "      <td>Ice Hockey</td>\n",
       "      <td>2600</td>\n",
       "      <td>1980.0</td>\n",
       "      <td>Sports</td>\n",
       "      <td>Activision</td>\n",
       "      <td>0.49</td>\n",
       "      <td>10</td>\n",
       "      <td>4206</td>\n",
       "    </tr>\n",
       "    <tr>\n",
       "      <th>16596</th>\n",
       "      <td>Kaboom!</td>\n",
       "      <td>2600</td>\n",
       "      <td>1980.0</td>\n",
       "      <td>Misc</td>\n",
       "      <td>Activision</td>\n",
       "      <td>1.15</td>\n",
       "      <td>3</td>\n",
       "      <td>4659</td>\n",
       "    </tr>\n",
       "    <tr>\n",
       "      <th>16597</th>\n",
       "      <td>Missile Command</td>\n",
       "      <td>2600</td>\n",
       "      <td>1980.0</td>\n",
       "      <td>Shooter</td>\n",
       "      <td>Atari</td>\n",
       "      <td>2.76</td>\n",
       "      <td>8</td>\n",
       "      <td>5875</td>\n",
       "    </tr>\n",
       "  </tbody>\n",
       "</table>\n",
       "<p>16291 rows × 8 columns</p>\n",
       "</div>"
      ],
      "text/plain": [
       "                                                   name platform    year  \\\n",
       "271                              Imagine: Makeup Artist       DS  2020.0   \n",
       "272                    Brothers Conflict: Precious Baby      PSV  2017.0   \n",
       "273    Phantasy Star Online 2 Episode 4: Deluxe Package      PS4  2017.0   \n",
       "274    Phantasy Star Online 2 Episode 4: Deluxe Package      PSV  2017.0   \n",
       "275                               12-Sai. Koisuru Diary      3DS  2016.0   \n",
       "...                                                 ...      ...     ...   \n",
       "16593                                          Defender     2600  1980.0   \n",
       "16594                                           Freeway     2600  1980.0   \n",
       "16595                                        Ice Hockey     2600  1980.0   \n",
       "16596                                           Kaboom!     2600  1980.0   \n",
       "16597                                   Missile Command     2600  1980.0   \n",
       "\n",
       "              genre     publisher  global_sales  genre_encoded  name_encoded  \n",
       "271      Simulation       Ubisoft          0.29              9          4240  \n",
       "272          Action  Idea Factory          0.01              0          1044  \n",
       "273    Role-Playing          Sega          0.03              7          7098  \n",
       "274    Role-Playing          Sega          0.01              7          7098  \n",
       "275       Adventure      Happinet          0.04              1            30  \n",
       "...             ...           ...           ...            ...           ...  \n",
       "16593          Misc         Atari          1.05              3          1979  \n",
       "16594        Action    Activision          0.34              0          3263  \n",
       "16595        Sports    Activision          0.49             10          4206  \n",
       "16596          Misc    Activision          1.15              3          4659  \n",
       "16597       Shooter         Atari          2.76              8          5875  \n",
       "\n",
       "[16291 rows x 8 columns]"
      ]
     },
     "execution_count": 17,
     "metadata": {},
     "output_type": "execute_result"
    }
   ],
   "source": [
    "# Label encoding for 'name'\n",
    "label_encoder_genre = LabelEncoder()\n",
    "df_clean['name_encoded'] = label_encoder_genre.fit_transform(df_clean['name'])\n",
    "df_clean"
   ]
  },
  {
   "cell_type": "code",
   "execution_count": 18,
   "id": "3d58a309-ee35-46d2-917d-5815ad56c795",
   "metadata": {
    "tags": []
   },
   "outputs": [
    {
     "name": "stderr",
     "output_type": "stream",
     "text": [
      "C:\\Users\\nicol\\AppData\\Local\\Temp\\ipykernel_31248\\3974559233.py:3: SettingWithCopyWarning: \n",
      "A value is trying to be set on a copy of a slice from a DataFrame.\n",
      "Try using .loc[row_indexer,col_indexer] = value instead\n",
      "\n",
      "See the caveats in the documentation: https://pandas.pydata.org/pandas-docs/stable/user_guide/indexing.html#returning-a-view-versus-a-copy\n",
      "  df_clean['platform_encoded'] = label_encoder_genre.fit_transform(df_clean['platform'])\n"
     ]
    },
    {
     "data": {
      "text/html": [
       "<div>\n",
       "<style scoped>\n",
       "    .dataframe tbody tr th:only-of-type {\n",
       "        vertical-align: middle;\n",
       "    }\n",
       "\n",
       "    .dataframe tbody tr th {\n",
       "        vertical-align: top;\n",
       "    }\n",
       "\n",
       "    .dataframe thead th {\n",
       "        text-align: right;\n",
       "    }\n",
       "</style>\n",
       "<table border=\"1\" class=\"dataframe\">\n",
       "  <thead>\n",
       "    <tr style=\"text-align: right;\">\n",
       "      <th></th>\n",
       "      <th>name</th>\n",
       "      <th>platform</th>\n",
       "      <th>year</th>\n",
       "      <th>genre</th>\n",
       "      <th>publisher</th>\n",
       "      <th>global_sales</th>\n",
       "      <th>genre_encoded</th>\n",
       "      <th>name_encoded</th>\n",
       "      <th>platform_encoded</th>\n",
       "    </tr>\n",
       "  </thead>\n",
       "  <tbody>\n",
       "    <tr>\n",
       "      <th>271</th>\n",
       "      <td>Imagine: Makeup Artist</td>\n",
       "      <td>DS</td>\n",
       "      <td>2020.0</td>\n",
       "      <td>Simulation</td>\n",
       "      <td>Ubisoft</td>\n",
       "      <td>0.29</td>\n",
       "      <td>9</td>\n",
       "      <td>4240</td>\n",
       "      <td>4</td>\n",
       "    </tr>\n",
       "    <tr>\n",
       "      <th>272</th>\n",
       "      <td>Brothers Conflict: Precious Baby</td>\n",
       "      <td>PSV</td>\n",
       "      <td>2017.0</td>\n",
       "      <td>Action</td>\n",
       "      <td>Idea Factory</td>\n",
       "      <td>0.01</td>\n",
       "      <td>0</td>\n",
       "      <td>1044</td>\n",
       "      <td>20</td>\n",
       "    </tr>\n",
       "    <tr>\n",
       "      <th>273</th>\n",
       "      <td>Phantasy Star Online 2 Episode 4: Deluxe Package</td>\n",
       "      <td>PS4</td>\n",
       "      <td>2017.0</td>\n",
       "      <td>Role-Playing</td>\n",
       "      <td>Sega</td>\n",
       "      <td>0.03</td>\n",
       "      <td>7</td>\n",
       "      <td>7098</td>\n",
       "      <td>18</td>\n",
       "    </tr>\n",
       "    <tr>\n",
       "      <th>274</th>\n",
       "      <td>Phantasy Star Online 2 Episode 4: Deluxe Package</td>\n",
       "      <td>PSV</td>\n",
       "      <td>2017.0</td>\n",
       "      <td>Role-Playing</td>\n",
       "      <td>Sega</td>\n",
       "      <td>0.01</td>\n",
       "      <td>7</td>\n",
       "      <td>7098</td>\n",
       "      <td>20</td>\n",
       "    </tr>\n",
       "    <tr>\n",
       "      <th>275</th>\n",
       "      <td>12-Sai. Koisuru Diary</td>\n",
       "      <td>3DS</td>\n",
       "      <td>2016.0</td>\n",
       "      <td>Adventure</td>\n",
       "      <td>Happinet</td>\n",
       "      <td>0.04</td>\n",
       "      <td>1</td>\n",
       "      <td>30</td>\n",
       "      <td>2</td>\n",
       "    </tr>\n",
       "    <tr>\n",
       "      <th>...</th>\n",
       "      <td>...</td>\n",
       "      <td>...</td>\n",
       "      <td>...</td>\n",
       "      <td>...</td>\n",
       "      <td>...</td>\n",
       "      <td>...</td>\n",
       "      <td>...</td>\n",
       "      <td>...</td>\n",
       "      <td>...</td>\n",
       "    </tr>\n",
       "    <tr>\n",
       "      <th>16593</th>\n",
       "      <td>Defender</td>\n",
       "      <td>2600</td>\n",
       "      <td>1980.0</td>\n",
       "      <td>Misc</td>\n",
       "      <td>Atari</td>\n",
       "      <td>1.05</td>\n",
       "      <td>3</td>\n",
       "      <td>1979</td>\n",
       "      <td>0</td>\n",
       "    </tr>\n",
       "    <tr>\n",
       "      <th>16594</th>\n",
       "      <td>Freeway</td>\n",
       "      <td>2600</td>\n",
       "      <td>1980.0</td>\n",
       "      <td>Action</td>\n",
       "      <td>Activision</td>\n",
       "      <td>0.34</td>\n",
       "      <td>0</td>\n",
       "      <td>3263</td>\n",
       "      <td>0</td>\n",
       "    </tr>\n",
       "    <tr>\n",
       "      <th>16595</th>\n",
       "      <td>Ice Hockey</td>\n",
       "      <td>2600</td>\n",
       "      <td>1980.0</td>\n",
       "      <td>Sports</td>\n",
       "      <td>Activision</td>\n",
       "      <td>0.49</td>\n",
       "      <td>10</td>\n",
       "      <td>4206</td>\n",
       "      <td>0</td>\n",
       "    </tr>\n",
       "    <tr>\n",
       "      <th>16596</th>\n",
       "      <td>Kaboom!</td>\n",
       "      <td>2600</td>\n",
       "      <td>1980.0</td>\n",
       "      <td>Misc</td>\n",
       "      <td>Activision</td>\n",
       "      <td>1.15</td>\n",
       "      <td>3</td>\n",
       "      <td>4659</td>\n",
       "      <td>0</td>\n",
       "    </tr>\n",
       "    <tr>\n",
       "      <th>16597</th>\n",
       "      <td>Missile Command</td>\n",
       "      <td>2600</td>\n",
       "      <td>1980.0</td>\n",
       "      <td>Shooter</td>\n",
       "      <td>Atari</td>\n",
       "      <td>2.76</td>\n",
       "      <td>8</td>\n",
       "      <td>5875</td>\n",
       "      <td>0</td>\n",
       "    </tr>\n",
       "  </tbody>\n",
       "</table>\n",
       "<p>16291 rows × 9 columns</p>\n",
       "</div>"
      ],
      "text/plain": [
       "                                                   name platform    year  \\\n",
       "271                              Imagine: Makeup Artist       DS  2020.0   \n",
       "272                    Brothers Conflict: Precious Baby      PSV  2017.0   \n",
       "273    Phantasy Star Online 2 Episode 4: Deluxe Package      PS4  2017.0   \n",
       "274    Phantasy Star Online 2 Episode 4: Deluxe Package      PSV  2017.0   \n",
       "275                               12-Sai. Koisuru Diary      3DS  2016.0   \n",
       "...                                                 ...      ...     ...   \n",
       "16593                                          Defender     2600  1980.0   \n",
       "16594                                           Freeway     2600  1980.0   \n",
       "16595                                        Ice Hockey     2600  1980.0   \n",
       "16596                                           Kaboom!     2600  1980.0   \n",
       "16597                                   Missile Command     2600  1980.0   \n",
       "\n",
       "              genre     publisher  global_sales  genre_encoded  name_encoded  \\\n",
       "271      Simulation       Ubisoft          0.29              9          4240   \n",
       "272          Action  Idea Factory          0.01              0          1044   \n",
       "273    Role-Playing          Sega          0.03              7          7098   \n",
       "274    Role-Playing          Sega          0.01              7          7098   \n",
       "275       Adventure      Happinet          0.04              1            30   \n",
       "...             ...           ...           ...            ...           ...   \n",
       "16593          Misc         Atari          1.05              3          1979   \n",
       "16594        Action    Activision          0.34              0          3263   \n",
       "16595        Sports    Activision          0.49             10          4206   \n",
       "16596          Misc    Activision          1.15              3          4659   \n",
       "16597       Shooter         Atari          2.76              8          5875   \n",
       "\n",
       "       platform_encoded  \n",
       "271                   4  \n",
       "272                  20  \n",
       "273                  18  \n",
       "274                  20  \n",
       "275                   2  \n",
       "...                 ...  \n",
       "16593                 0  \n",
       "16594                 0  \n",
       "16595                 0  \n",
       "16596                 0  \n",
       "16597                 0  \n",
       "\n",
       "[16291 rows x 9 columns]"
      ]
     },
     "execution_count": 18,
     "metadata": {},
     "output_type": "execute_result"
    }
   ],
   "source": [
    "# Label encoding for 'platform' \n",
    "label_encoder_genre = LabelEncoder()\n",
    "df_clean['platform_encoded'] = label_encoder_genre.fit_transform(df_clean['platform'])\n",
    "df_clean"
   ]
  },
  {
   "cell_type": "code",
   "execution_count": 19,
   "id": "def374db-fecb-4cee-ad04-2f215ffd32ce",
   "metadata": {
    "tags": []
   },
   "outputs": [
    {
     "name": "stderr",
     "output_type": "stream",
     "text": [
      "C:\\Users\\nicol\\AppData\\Local\\Temp\\ipykernel_31248\\1702040746.py:3: SettingWithCopyWarning: \n",
      "A value is trying to be set on a copy of a slice from a DataFrame.\n",
      "Try using .loc[row_indexer,col_indexer] = value instead\n",
      "\n",
      "See the caveats in the documentation: https://pandas.pydata.org/pandas-docs/stable/user_guide/indexing.html#returning-a-view-versus-a-copy\n",
      "  df_clean['publisher_encoded'] = label_encoder_genre.fit_transform(df_clean['publisher'])\n"
     ]
    },
    {
     "data": {
      "text/html": [
       "<div>\n",
       "<style scoped>\n",
       "    .dataframe tbody tr th:only-of-type {\n",
       "        vertical-align: middle;\n",
       "    }\n",
       "\n",
       "    .dataframe tbody tr th {\n",
       "        vertical-align: top;\n",
       "    }\n",
       "\n",
       "    .dataframe thead th {\n",
       "        text-align: right;\n",
       "    }\n",
       "</style>\n",
       "<table border=\"1\" class=\"dataframe\">\n",
       "  <thead>\n",
       "    <tr style=\"text-align: right;\">\n",
       "      <th></th>\n",
       "      <th>name</th>\n",
       "      <th>platform</th>\n",
       "      <th>year</th>\n",
       "      <th>genre</th>\n",
       "      <th>publisher</th>\n",
       "      <th>global_sales</th>\n",
       "      <th>genre_encoded</th>\n",
       "      <th>name_encoded</th>\n",
       "      <th>platform_encoded</th>\n",
       "      <th>publisher_encoded</th>\n",
       "    </tr>\n",
       "  </thead>\n",
       "  <tbody>\n",
       "    <tr>\n",
       "      <th>271</th>\n",
       "      <td>Imagine: Makeup Artist</td>\n",
       "      <td>DS</td>\n",
       "      <td>2020.0</td>\n",
       "      <td>Simulation</td>\n",
       "      <td>Ubisoft</td>\n",
       "      <td>0.29</td>\n",
       "      <td>9</td>\n",
       "      <td>4240</td>\n",
       "      <td>4</td>\n",
       "      <td>524</td>\n",
       "    </tr>\n",
       "    <tr>\n",
       "      <th>272</th>\n",
       "      <td>Brothers Conflict: Precious Baby</td>\n",
       "      <td>PSV</td>\n",
       "      <td>2017.0</td>\n",
       "      <td>Action</td>\n",
       "      <td>Idea Factory</td>\n",
       "      <td>0.01</td>\n",
       "      <td>0</td>\n",
       "      <td>1044</td>\n",
       "      <td>20</td>\n",
       "      <td>230</td>\n",
       "    </tr>\n",
       "    <tr>\n",
       "      <th>273</th>\n",
       "      <td>Phantasy Star Online 2 Episode 4: Deluxe Package</td>\n",
       "      <td>PS4</td>\n",
       "      <td>2017.0</td>\n",
       "      <td>Role-Playing</td>\n",
       "      <td>Sega</td>\n",
       "      <td>0.03</td>\n",
       "      <td>7</td>\n",
       "      <td>7098</td>\n",
       "      <td>18</td>\n",
       "      <td>445</td>\n",
       "    </tr>\n",
       "    <tr>\n",
       "      <th>274</th>\n",
       "      <td>Phantasy Star Online 2 Episode 4: Deluxe Package</td>\n",
       "      <td>PSV</td>\n",
       "      <td>2017.0</td>\n",
       "      <td>Role-Playing</td>\n",
       "      <td>Sega</td>\n",
       "      <td>0.01</td>\n",
       "      <td>7</td>\n",
       "      <td>7098</td>\n",
       "      <td>20</td>\n",
       "      <td>445</td>\n",
       "    </tr>\n",
       "    <tr>\n",
       "      <th>275</th>\n",
       "      <td>12-Sai. Koisuru Diary</td>\n",
       "      <td>3DS</td>\n",
       "      <td>2016.0</td>\n",
       "      <td>Adventure</td>\n",
       "      <td>Happinet</td>\n",
       "      <td>0.04</td>\n",
       "      <td>1</td>\n",
       "      <td>30</td>\n",
       "      <td>2</td>\n",
       "      <td>212</td>\n",
       "    </tr>\n",
       "    <tr>\n",
       "      <th>...</th>\n",
       "      <td>...</td>\n",
       "      <td>...</td>\n",
       "      <td>...</td>\n",
       "      <td>...</td>\n",
       "      <td>...</td>\n",
       "      <td>...</td>\n",
       "      <td>...</td>\n",
       "      <td>...</td>\n",
       "      <td>...</td>\n",
       "      <td>...</td>\n",
       "    </tr>\n",
       "    <tr>\n",
       "      <th>16593</th>\n",
       "      <td>Defender</td>\n",
       "      <td>2600</td>\n",
       "      <td>1980.0</td>\n",
       "      <td>Misc</td>\n",
       "      <td>Atari</td>\n",
       "      <td>1.05</td>\n",
       "      <td>3</td>\n",
       "      <td>1979</td>\n",
       "      <td>0</td>\n",
       "      <td>53</td>\n",
       "    </tr>\n",
       "    <tr>\n",
       "      <th>16594</th>\n",
       "      <td>Freeway</td>\n",
       "      <td>2600</td>\n",
       "      <td>1980.0</td>\n",
       "      <td>Action</td>\n",
       "      <td>Activision</td>\n",
       "      <td>0.34</td>\n",
       "      <td>0</td>\n",
       "      <td>3263</td>\n",
       "      <td>0</td>\n",
       "      <td>21</td>\n",
       "    </tr>\n",
       "    <tr>\n",
       "      <th>16595</th>\n",
       "      <td>Ice Hockey</td>\n",
       "      <td>2600</td>\n",
       "      <td>1980.0</td>\n",
       "      <td>Sports</td>\n",
       "      <td>Activision</td>\n",
       "      <td>0.49</td>\n",
       "      <td>10</td>\n",
       "      <td>4206</td>\n",
       "      <td>0</td>\n",
       "      <td>21</td>\n",
       "    </tr>\n",
       "    <tr>\n",
       "      <th>16596</th>\n",
       "      <td>Kaboom!</td>\n",
       "      <td>2600</td>\n",
       "      <td>1980.0</td>\n",
       "      <td>Misc</td>\n",
       "      <td>Activision</td>\n",
       "      <td>1.15</td>\n",
       "      <td>3</td>\n",
       "      <td>4659</td>\n",
       "      <td>0</td>\n",
       "      <td>21</td>\n",
       "    </tr>\n",
       "    <tr>\n",
       "      <th>16597</th>\n",
       "      <td>Missile Command</td>\n",
       "      <td>2600</td>\n",
       "      <td>1980.0</td>\n",
       "      <td>Shooter</td>\n",
       "      <td>Atari</td>\n",
       "      <td>2.76</td>\n",
       "      <td>8</td>\n",
       "      <td>5875</td>\n",
       "      <td>0</td>\n",
       "      <td>53</td>\n",
       "    </tr>\n",
       "  </tbody>\n",
       "</table>\n",
       "<p>16291 rows × 10 columns</p>\n",
       "</div>"
      ],
      "text/plain": [
       "                                                   name platform    year  \\\n",
       "271                              Imagine: Makeup Artist       DS  2020.0   \n",
       "272                    Brothers Conflict: Precious Baby      PSV  2017.0   \n",
       "273    Phantasy Star Online 2 Episode 4: Deluxe Package      PS4  2017.0   \n",
       "274    Phantasy Star Online 2 Episode 4: Deluxe Package      PSV  2017.0   \n",
       "275                               12-Sai. Koisuru Diary      3DS  2016.0   \n",
       "...                                                 ...      ...     ...   \n",
       "16593                                          Defender     2600  1980.0   \n",
       "16594                                           Freeway     2600  1980.0   \n",
       "16595                                        Ice Hockey     2600  1980.0   \n",
       "16596                                           Kaboom!     2600  1980.0   \n",
       "16597                                   Missile Command     2600  1980.0   \n",
       "\n",
       "              genre     publisher  global_sales  genre_encoded  name_encoded  \\\n",
       "271      Simulation       Ubisoft          0.29              9          4240   \n",
       "272          Action  Idea Factory          0.01              0          1044   \n",
       "273    Role-Playing          Sega          0.03              7          7098   \n",
       "274    Role-Playing          Sega          0.01              7          7098   \n",
       "275       Adventure      Happinet          0.04              1            30   \n",
       "...             ...           ...           ...            ...           ...   \n",
       "16593          Misc         Atari          1.05              3          1979   \n",
       "16594        Action    Activision          0.34              0          3263   \n",
       "16595        Sports    Activision          0.49             10          4206   \n",
       "16596          Misc    Activision          1.15              3          4659   \n",
       "16597       Shooter         Atari          2.76              8          5875   \n",
       "\n",
       "       platform_encoded  publisher_encoded  \n",
       "271                   4                524  \n",
       "272                  20                230  \n",
       "273                  18                445  \n",
       "274                  20                445  \n",
       "275                   2                212  \n",
       "...                 ...                ...  \n",
       "16593                 0                 53  \n",
       "16594                 0                 21  \n",
       "16595                 0                 21  \n",
       "16596                 0                 21  \n",
       "16597                 0                 53  \n",
       "\n",
       "[16291 rows x 10 columns]"
      ]
     },
     "execution_count": 19,
     "metadata": {},
     "output_type": "execute_result"
    }
   ],
   "source": [
    "# Label encoding for 'publisher' \n",
    "label_encoder_genre = LabelEncoder()\n",
    "df_clean['publisher_encoded'] = label_encoder_genre.fit_transform(df_clean['publisher'])\n",
    "df_clean"
   ]
  },
  {
   "cell_type": "code",
   "execution_count": 20,
   "id": "410d5cfe-4bae-4a1e-bda9-8b3f5dcdda13",
   "metadata": {
    "tags": []
   },
   "outputs": [
    {
     "data": {
      "text/html": [
       "<div>\n",
       "<style scoped>\n",
       "    .dataframe tbody tr th:only-of-type {\n",
       "        vertical-align: middle;\n",
       "    }\n",
       "\n",
       "    .dataframe tbody tr th {\n",
       "        vertical-align: top;\n",
       "    }\n",
       "\n",
       "    .dataframe thead th {\n",
       "        text-align: right;\n",
       "    }\n",
       "</style>\n",
       "<table border=\"1\" class=\"dataframe\">\n",
       "  <thead>\n",
       "    <tr style=\"text-align: right;\">\n",
       "      <th></th>\n",
       "      <th>name</th>\n",
       "      <th>platform</th>\n",
       "      <th>year</th>\n",
       "      <th>genre</th>\n",
       "      <th>publisher</th>\n",
       "      <th>global_sales</th>\n",
       "      <th>genre_encoded</th>\n",
       "      <th>name_encoded</th>\n",
       "      <th>platform_encoded</th>\n",
       "      <th>publisher_encoded</th>\n",
       "    </tr>\n",
       "  </thead>\n",
       "  <tbody>\n",
       "    <tr>\n",
       "      <th>6178</th>\n",
       "      <td>MLB 09: The Show</td>\n",
       "      <td>PS3</td>\n",
       "      <td>2009.0</td>\n",
       "      <td>Sports</td>\n",
       "      <td>Sony Computer Entertainment</td>\n",
       "      <td>0.72</td>\n",
       "      <td>10</td>\n",
       "      <td>5279</td>\n",
       "      <td>17</td>\n",
       "      <td>455</td>\n",
       "    </tr>\n",
       "    <tr>\n",
       "      <th>6179</th>\n",
       "      <td>MLB 09: The Show</td>\n",
       "      <td>PS2</td>\n",
       "      <td>2009.0</td>\n",
       "      <td>Sports</td>\n",
       "      <td>Sony Computer Entertainment</td>\n",
       "      <td>0.33</td>\n",
       "      <td>10</td>\n",
       "      <td>5279</td>\n",
       "      <td>16</td>\n",
       "      <td>455</td>\n",
       "    </tr>\n",
       "    <tr>\n",
       "      <th>6180</th>\n",
       "      <td>MLB 09: The Show</td>\n",
       "      <td>PSP</td>\n",
       "      <td>2009.0</td>\n",
       "      <td>Sports</td>\n",
       "      <td>Sony Computer Entertainment</td>\n",
       "      <td>0.26</td>\n",
       "      <td>10</td>\n",
       "      <td>5279</td>\n",
       "      <td>19</td>\n",
       "      <td>455</td>\n",
       "    </tr>\n",
       "  </tbody>\n",
       "</table>\n",
       "</div>"
      ],
      "text/plain": [
       "                  name platform    year   genre                    publisher  \\\n",
       "6178  MLB 09: The Show      PS3  2009.0  Sports  Sony Computer Entertainment   \n",
       "6179  MLB 09: The Show      PS2  2009.0  Sports  Sony Computer Entertainment   \n",
       "6180  MLB 09: The Show      PSP  2009.0  Sports  Sony Computer Entertainment   \n",
       "\n",
       "      global_sales  genre_encoded  name_encoded  platform_encoded  \\\n",
       "6178          0.72             10          5279                17   \n",
       "6179          0.33             10          5279                16   \n",
       "6180          0.26             10          5279                19   \n",
       "\n",
       "      publisher_encoded  \n",
       "6178                455  \n",
       "6179                455  \n",
       "6180                455  "
      ]
     },
     "execution_count": 20,
     "metadata": {},
     "output_type": "execute_result"
    }
   ],
   "source": [
    "df_clean.query('name == \"MLB 09: The Show\"')"
   ]
  },
  {
   "cell_type": "code",
   "execution_count": 21,
   "id": "b08c34ac-b50c-48fa-96d3-db71795b6463",
   "metadata": {
    "tags": []
   },
   "outputs": [
    {
     "data": {
      "text/html": [
       "<div>\n",
       "<style scoped>\n",
       "    .dataframe tbody tr th:only-of-type {\n",
       "        vertical-align: middle;\n",
       "    }\n",
       "\n",
       "    .dataframe tbody tr th {\n",
       "        vertical-align: top;\n",
       "    }\n",
       "\n",
       "    .dataframe thead th {\n",
       "        text-align: right;\n",
       "    }\n",
       "</style>\n",
       "<table border=\"1\" class=\"dataframe\">\n",
       "  <thead>\n",
       "    <tr style=\"text-align: right;\">\n",
       "      <th></th>\n",
       "      <th>name</th>\n",
       "      <th>platform</th>\n",
       "      <th>year</th>\n",
       "      <th>genre</th>\n",
       "      <th>publisher</th>\n",
       "      <th>global_sales</th>\n",
       "      <th>genre_encoded</th>\n",
       "      <th>name_encoded</th>\n",
       "      <th>platform_encoded</th>\n",
       "      <th>publisher_encoded</th>\n",
       "    </tr>\n",
       "  </thead>\n",
       "  <tbody>\n",
       "    <tr>\n",
       "      <th>5517</th>\n",
       "      <td>Batman: Arkham Asylum</td>\n",
       "      <td>PS3</td>\n",
       "      <td>2009.0</td>\n",
       "      <td>Action</td>\n",
       "      <td>Eidos Interactive</td>\n",
       "      <td>4.25</td>\n",
       "      <td>0</td>\n",
       "      <td>658</td>\n",
       "      <td>17</td>\n",
       "      <td>137</td>\n",
       "    </tr>\n",
       "    <tr>\n",
       "      <th>5518</th>\n",
       "      <td>Batman: Arkham Asylum</td>\n",
       "      <td>X360</td>\n",
       "      <td>2009.0</td>\n",
       "      <td>Action</td>\n",
       "      <td>Eidos Interactive</td>\n",
       "      <td>3.50</td>\n",
       "      <td>0</td>\n",
       "      <td>658</td>\n",
       "      <td>28</td>\n",
       "      <td>137</td>\n",
       "    </tr>\n",
       "    <tr>\n",
       "      <th>5519</th>\n",
       "      <td>Batman: Arkham Asylum</td>\n",
       "      <td>PC</td>\n",
       "      <td>2009.0</td>\n",
       "      <td>Action</td>\n",
       "      <td>Eidos Interactive</td>\n",
       "      <td>0.32</td>\n",
       "      <td>0</td>\n",
       "      <td>658</td>\n",
       "      <td>13</td>\n",
       "      <td>137</td>\n",
       "    </tr>\n",
       "    <tr>\n",
       "      <th>5523</th>\n",
       "      <td>Battlestations: Pacific</td>\n",
       "      <td>X360</td>\n",
       "      <td>2009.0</td>\n",
       "      <td>Strategy</td>\n",
       "      <td>Eidos Interactive</td>\n",
       "      <td>0.33</td>\n",
       "      <td>11</td>\n",
       "      <td>718</td>\n",
       "      <td>28</td>\n",
       "      <td>137</td>\n",
       "    </tr>\n",
       "    <tr>\n",
       "      <th>5524</th>\n",
       "      <td>Battlestations: Pacific</td>\n",
       "      <td>PC</td>\n",
       "      <td>2009.0</td>\n",
       "      <td>Strategy</td>\n",
       "      <td>Eidos Interactive</td>\n",
       "      <td>0.03</td>\n",
       "      <td>11</td>\n",
       "      <td>718</td>\n",
       "      <td>13</td>\n",
       "      <td>137</td>\n",
       "    </tr>\n",
       "    <tr>\n",
       "      <th>...</th>\n",
       "      <td>...</td>\n",
       "      <td>...</td>\n",
       "      <td>...</td>\n",
       "      <td>...</td>\n",
       "      <td>...</td>\n",
       "      <td>...</td>\n",
       "      <td>...</td>\n",
       "      <td>...</td>\n",
       "      <td>...</td>\n",
       "      <td>...</td>\n",
       "    </tr>\n",
       "    <tr>\n",
       "      <th>15606</th>\n",
       "      <td>Tomb Raider III: Adventures of Lara Croft</td>\n",
       "      <td>PS</td>\n",
       "      <td>1997.0</td>\n",
       "      <td>Action</td>\n",
       "      <td>Eidos Interactive</td>\n",
       "      <td>3.54</td>\n",
       "      <td>0</td>\n",
       "      <td>10191</td>\n",
       "      <td>15</td>\n",
       "      <td>137</td>\n",
       "    </tr>\n",
       "    <tr>\n",
       "      <th>15731</th>\n",
       "      <td>Machine Head</td>\n",
       "      <td>PS</td>\n",
       "      <td>1996.0</td>\n",
       "      <td>Shooter</td>\n",
       "      <td>Eidos Interactive</td>\n",
       "      <td>0.07</td>\n",
       "      <td>8</td>\n",
       "      <td>5337</td>\n",
       "      <td>15</td>\n",
       "      <td>137</td>\n",
       "    </tr>\n",
       "    <tr>\n",
       "      <th>15855</th>\n",
       "      <td>The Incredible Hulk: The Pantheon Saga</td>\n",
       "      <td>PS</td>\n",
       "      <td>1996.0</td>\n",
       "      <td>Action</td>\n",
       "      <td>Eidos Interactive</td>\n",
       "      <td>0.16</td>\n",
       "      <td>0</td>\n",
       "      <td>9753</td>\n",
       "      <td>15</td>\n",
       "      <td>137</td>\n",
       "    </tr>\n",
       "    <tr>\n",
       "      <th>15868</th>\n",
       "      <td>Tomb Raider</td>\n",
       "      <td>PS</td>\n",
       "      <td>1996.0</td>\n",
       "      <td>Action</td>\n",
       "      <td>Eidos Interactive</td>\n",
       "      <td>4.63</td>\n",
       "      <td>0</td>\n",
       "      <td>10187</td>\n",
       "      <td>15</td>\n",
       "      <td>137</td>\n",
       "    </tr>\n",
       "    <tr>\n",
       "      <th>15869</th>\n",
       "      <td>Tomb Raider</td>\n",
       "      <td>PC</td>\n",
       "      <td>1996.0</td>\n",
       "      <td>Action</td>\n",
       "      <td>Eidos Interactive</td>\n",
       "      <td>1.03</td>\n",
       "      <td>0</td>\n",
       "      <td>10187</td>\n",
       "      <td>13</td>\n",
       "      <td>137</td>\n",
       "    </tr>\n",
       "  </tbody>\n",
       "</table>\n",
       "<p>196 rows × 10 columns</p>\n",
       "</div>"
      ],
      "text/plain": [
       "                                            name platform    year     genre  \\\n",
       "5517                       Batman: Arkham Asylum      PS3  2009.0    Action   \n",
       "5518                       Batman: Arkham Asylum     X360  2009.0    Action   \n",
       "5519                       Batman: Arkham Asylum       PC  2009.0    Action   \n",
       "5523                     Battlestations: Pacific     X360  2009.0  Strategy   \n",
       "5524                     Battlestations: Pacific       PC  2009.0  Strategy   \n",
       "...                                          ...      ...     ...       ...   \n",
       "15606  Tomb Raider III: Adventures of Lara Croft       PS  1997.0    Action   \n",
       "15731                               Machine Head       PS  1996.0   Shooter   \n",
       "15855     The Incredible Hulk: The Pantheon Saga       PS  1996.0    Action   \n",
       "15868                                Tomb Raider       PS  1996.0    Action   \n",
       "15869                                Tomb Raider       PC  1996.0    Action   \n",
       "\n",
       "               publisher  global_sales  genre_encoded  name_encoded  \\\n",
       "5517   Eidos Interactive          4.25              0           658   \n",
       "5518   Eidos Interactive          3.50              0           658   \n",
       "5519   Eidos Interactive          0.32              0           658   \n",
       "5523   Eidos Interactive          0.33             11           718   \n",
       "5524   Eidos Interactive          0.03             11           718   \n",
       "...                  ...           ...            ...           ...   \n",
       "15606  Eidos Interactive          3.54              0         10191   \n",
       "15731  Eidos Interactive          0.07              8          5337   \n",
       "15855  Eidos Interactive          0.16              0          9753   \n",
       "15868  Eidos Interactive          4.63              0         10187   \n",
       "15869  Eidos Interactive          1.03              0         10187   \n",
       "\n",
       "       platform_encoded  publisher_encoded  \n",
       "5517                 17                137  \n",
       "5518                 28                137  \n",
       "5519                 13                137  \n",
       "5523                 28                137  \n",
       "5524                 13                137  \n",
       "...                 ...                ...  \n",
       "15606                15                137  \n",
       "15731                15                137  \n",
       "15855                15                137  \n",
       "15868                15                137  \n",
       "15869                13                137  \n",
       "\n",
       "[196 rows x 10 columns]"
      ]
     },
     "execution_count": 21,
     "metadata": {},
     "output_type": "execute_result"
    }
   ],
   "source": [
    "df_clean.query('publisher == \"Eidos Interactive\"')"
   ]
  },
  {
   "cell_type": "markdown",
   "id": "42b25492-f618-4566-848d-36b8c4cf389c",
   "metadata": {},
   "source": [
    "<h1> Dropping unnecessary columns \n",
    "    \n",
    "<h4> The process of encoding categorical columns created alternative columns, i.e. \"name_encoded\" which will be used in my models, therefore I will be dropping the initial columns. "
   ]
  },
  {
   "cell_type": "code",
   "execution_count": 22,
   "id": "7c2ddf46-4c6d-4f95-98a0-9963d3fbdfe9",
   "metadata": {
    "tags": []
   },
   "outputs": [
    {
     "data": {
      "text/html": [
       "<div>\n",
       "<style scoped>\n",
       "    .dataframe tbody tr th:only-of-type {\n",
       "        vertical-align: middle;\n",
       "    }\n",
       "\n",
       "    .dataframe tbody tr th {\n",
       "        vertical-align: top;\n",
       "    }\n",
       "\n",
       "    .dataframe thead th {\n",
       "        text-align: right;\n",
       "    }\n",
       "</style>\n",
       "<table border=\"1\" class=\"dataframe\">\n",
       "  <thead>\n",
       "    <tr style=\"text-align: right;\">\n",
       "      <th></th>\n",
       "      <th>year</th>\n",
       "      <th>global_sales</th>\n",
       "      <th>genre_encoded</th>\n",
       "      <th>name_encoded</th>\n",
       "      <th>platform_encoded</th>\n",
       "      <th>publisher_encoded</th>\n",
       "    </tr>\n",
       "  </thead>\n",
       "  <tbody>\n",
       "    <tr>\n",
       "      <th>271</th>\n",
       "      <td>2020.0</td>\n",
       "      <td>0.29</td>\n",
       "      <td>9</td>\n",
       "      <td>4240</td>\n",
       "      <td>4</td>\n",
       "      <td>524</td>\n",
       "    </tr>\n",
       "    <tr>\n",
       "      <th>272</th>\n",
       "      <td>2017.0</td>\n",
       "      <td>0.01</td>\n",
       "      <td>0</td>\n",
       "      <td>1044</td>\n",
       "      <td>20</td>\n",
       "      <td>230</td>\n",
       "    </tr>\n",
       "    <tr>\n",
       "      <th>273</th>\n",
       "      <td>2017.0</td>\n",
       "      <td>0.03</td>\n",
       "      <td>7</td>\n",
       "      <td>7098</td>\n",
       "      <td>18</td>\n",
       "      <td>445</td>\n",
       "    </tr>\n",
       "  </tbody>\n",
       "</table>\n",
       "</div>"
      ],
      "text/plain": [
       "       year  global_sales  genre_encoded  name_encoded  platform_encoded  \\\n",
       "271  2020.0          0.29              9          4240                 4   \n",
       "272  2017.0          0.01              0          1044                20   \n",
       "273  2017.0          0.03              7          7098                18   \n",
       "\n",
       "     publisher_encoded  \n",
       "271                524  \n",
       "272                230  \n",
       "273                445  "
      ]
     },
     "execution_count": 22,
     "metadata": {},
     "output_type": "execute_result"
    }
   ],
   "source": [
    "columns_bye = ['name', 'genre', 'publisher', 'platform']\n",
    "\n",
    "df_clean = df_clean.drop(columns=columns_bye)\n",
    "df_clean.head(3)"
   ]
  },
  {
   "cell_type": "code",
   "execution_count": 23,
   "id": "d7691a21-c81d-4c19-a63b-3b3e9c972fb2",
   "metadata": {
    "tags": []
   },
   "outputs": [
    {
     "data": {
      "text/plain": [
       "(16291, 6)"
      ]
     },
     "execution_count": 23,
     "metadata": {},
     "output_type": "execute_result"
    }
   ],
   "source": [
    "df_clean.shape"
   ]
  },
  {
   "cell_type": "code",
   "execution_count": 24,
   "id": "a1d65cae-629e-4652-9733-5bc39920cc92",
   "metadata": {
    "tags": []
   },
   "outputs": [],
   "source": [
    "#training set = 9.700\n",
    "#test = 4887\n",
    "#validation = the rest \n"
   ]
  },
  {
   "cell_type": "markdown",
   "id": "44f81d61-28b4-41a1-9960-726cfcbcc454",
   "metadata": {},
   "source": [
    "<h1> Splitting the data </h1>"
   ]
  },
  {
   "cell_type": "markdown",
   "id": "6c98c942-b506-45c8-93ac-f303664ecc76",
   "metadata": {},
   "source": [
    "<h4> I will split the global_sales data and create a separate target array, that will be used as the basis for the next machine learning models. "
   ]
  },
  {
   "cell_type": "code",
   "execution_count": 25,
   "id": "ab3ec23c-b2f5-409e-aeb6-a32a598ce6fe",
   "metadata": {
    "tags": []
   },
   "outputs": [
    {
     "data": {
      "text/html": [
       "<div>\n",
       "<style scoped>\n",
       "    .dataframe tbody tr th:only-of-type {\n",
       "        vertical-align: middle;\n",
       "    }\n",
       "\n",
       "    .dataframe tbody tr th {\n",
       "        vertical-align: top;\n",
       "    }\n",
       "\n",
       "    .dataframe thead th {\n",
       "        text-align: right;\n",
       "    }\n",
       "</style>\n",
       "<table border=\"1\" class=\"dataframe\">\n",
       "  <thead>\n",
       "    <tr style=\"text-align: right;\">\n",
       "      <th></th>\n",
       "      <th>year</th>\n",
       "      <th>genre_encoded</th>\n",
       "      <th>name_encoded</th>\n",
       "      <th>platform_encoded</th>\n",
       "      <th>publisher_encoded</th>\n",
       "    </tr>\n",
       "  </thead>\n",
       "  <tbody>\n",
       "    <tr>\n",
       "      <th>271</th>\n",
       "      <td>2020.0</td>\n",
       "      <td>9</td>\n",
       "      <td>4240</td>\n",
       "      <td>4</td>\n",
       "      <td>524</td>\n",
       "    </tr>\n",
       "    <tr>\n",
       "      <th>272</th>\n",
       "      <td>2017.0</td>\n",
       "      <td>0</td>\n",
       "      <td>1044</td>\n",
       "      <td>20</td>\n",
       "      <td>230</td>\n",
       "    </tr>\n",
       "    <tr>\n",
       "      <th>273</th>\n",
       "      <td>2017.0</td>\n",
       "      <td>7</td>\n",
       "      <td>7098</td>\n",
       "      <td>18</td>\n",
       "      <td>445</td>\n",
       "    </tr>\n",
       "    <tr>\n",
       "      <th>274</th>\n",
       "      <td>2017.0</td>\n",
       "      <td>7</td>\n",
       "      <td>7098</td>\n",
       "      <td>20</td>\n",
       "      <td>445</td>\n",
       "    </tr>\n",
       "    <tr>\n",
       "      <th>275</th>\n",
       "      <td>2016.0</td>\n",
       "      <td>1</td>\n",
       "      <td>30</td>\n",
       "      <td>2</td>\n",
       "      <td>212</td>\n",
       "    </tr>\n",
       "    <tr>\n",
       "      <th>...</th>\n",
       "      <td>...</td>\n",
       "      <td>...</td>\n",
       "      <td>...</td>\n",
       "      <td>...</td>\n",
       "      <td>...</td>\n",
       "    </tr>\n",
       "    <tr>\n",
       "      <th>16593</th>\n",
       "      <td>1980.0</td>\n",
       "      <td>3</td>\n",
       "      <td>1979</td>\n",
       "      <td>0</td>\n",
       "      <td>53</td>\n",
       "    </tr>\n",
       "    <tr>\n",
       "      <th>16594</th>\n",
       "      <td>1980.0</td>\n",
       "      <td>0</td>\n",
       "      <td>3263</td>\n",
       "      <td>0</td>\n",
       "      <td>21</td>\n",
       "    </tr>\n",
       "    <tr>\n",
       "      <th>16595</th>\n",
       "      <td>1980.0</td>\n",
       "      <td>10</td>\n",
       "      <td>4206</td>\n",
       "      <td>0</td>\n",
       "      <td>21</td>\n",
       "    </tr>\n",
       "    <tr>\n",
       "      <th>16596</th>\n",
       "      <td>1980.0</td>\n",
       "      <td>3</td>\n",
       "      <td>4659</td>\n",
       "      <td>0</td>\n",
       "      <td>21</td>\n",
       "    </tr>\n",
       "    <tr>\n",
       "      <th>16597</th>\n",
       "      <td>1980.0</td>\n",
       "      <td>8</td>\n",
       "      <td>5875</td>\n",
       "      <td>0</td>\n",
       "      <td>53</td>\n",
       "    </tr>\n",
       "  </tbody>\n",
       "</table>\n",
       "<p>16291 rows × 5 columns</p>\n",
       "</div>"
      ],
      "text/plain": [
       "         year  genre_encoded  name_encoded  platform_encoded  \\\n",
       "271    2020.0              9          4240                 4   \n",
       "272    2017.0              0          1044                20   \n",
       "273    2017.0              7          7098                18   \n",
       "274    2017.0              7          7098                20   \n",
       "275    2016.0              1            30                 2   \n",
       "...       ...            ...           ...               ...   \n",
       "16593  1980.0              3          1979                 0   \n",
       "16594  1980.0              0          3263                 0   \n",
       "16595  1980.0             10          4206                 0   \n",
       "16596  1980.0              3          4659                 0   \n",
       "16597  1980.0              8          5875                 0   \n",
       "\n",
       "       publisher_encoded  \n",
       "271                  524  \n",
       "272                  230  \n",
       "273                  445  \n",
       "274                  445  \n",
       "275                  212  \n",
       "...                  ...  \n",
       "16593                 53  \n",
       "16594                 21  \n",
       "16595                 21  \n",
       "16596                 21  \n",
       "16597                 53  \n",
       "\n",
       "[16291 rows x 5 columns]"
      ]
     },
     "execution_count": 25,
     "metadata": {},
     "output_type": "execute_result"
    }
   ],
   "source": [
    "target = df_clean.iloc[:, 1]\n",
    "df_clean.drop('global_sales', axis=1, inplace=True)\n",
    "df_clean"
   ]
  },
  {
   "cell_type": "code",
   "execution_count": 26,
   "id": "bd6d59b7-8013-4841-bb41-4d9e0d790b42",
   "metadata": {
    "tags": []
   },
   "outputs": [
    {
     "data": {
      "text/plain": [
       "271      0.29\n",
       "272      0.01\n",
       "273      0.03\n",
       "274      0.01\n",
       "275      0.04\n",
       "         ... \n",
       "16593    1.05\n",
       "16594    0.34\n",
       "16595    0.49\n",
       "16596    1.15\n",
       "16597    2.76\n",
       "Name: global_sales, Length: 16291, dtype: float64"
      ]
     },
     "execution_count": 26,
     "metadata": {},
     "output_type": "execute_result"
    }
   ],
   "source": [
    "target"
   ]
  },
  {
   "cell_type": "markdown",
   "id": "895ff401-a0b9-40c1-b576-07781ee15d0b",
   "metadata": {},
   "source": [
    "<h4> Now that we have the separate target array for global_sales, we will look at the rest of the data. \n",
    "\n",
    "I will split df_clean into separate sets of train, test and validation. The test size will be 30% and the train size will be 70% of df_clean, which are recommended sizes. \n",
    "\n",
    "The random state is set to 16, to ensure reproducible results for my data split. The model will start with random weights and biases, so it is necessary to be able to control that, so the results can be reproduced at a later date if needed. </h4>"
   ]
  },
  {
   "cell_type": "code",
   "execution_count": 27,
   "id": "828c7bbd-3a9d-4c14-abcd-723f477f38b1",
   "metadata": {
    "tags": []
   },
   "outputs": [],
   "source": [
    "train, test, train_target, test_target = train_test_split(df_clean,target, test_size=0.3, train_size=0.7, random_state=16, shuffle=True)"
   ]
  },
  {
   "cell_type": "code",
   "execution_count": 28,
   "id": "165d9cf0-a51e-4a7c-a793-f46537a27d8f",
   "metadata": {
    "tags": []
   },
   "outputs": [
    {
     "data": {
      "text/plain": [
       "((11403, 5), (11403,))"
      ]
     },
     "execution_count": 28,
     "metadata": {},
     "output_type": "execute_result"
    }
   ],
   "source": [
    "train.shape, train_target.shape"
   ]
  },
  {
   "cell_type": "code",
   "execution_count": 29,
   "id": "38eaa816-611a-44c8-a527-17beff6cc474",
   "metadata": {
    "tags": []
   },
   "outputs": [
    {
     "data": {
      "text/plain": [
       "((4888, 5), (4888,))"
      ]
     },
     "execution_count": 29,
     "metadata": {},
     "output_type": "execute_result"
    }
   ],
   "source": [
    "test.shape, test_target.shape"
   ]
  },
  {
   "cell_type": "code",
   "execution_count": 30,
   "id": "7843d2fe-3aee-4ca1-93ec-25e070c483fa",
   "metadata": {
    "tags": []
   },
   "outputs": [],
   "source": [
    "train, validation, train_target, validation_target = train_test_split(train, train_target, test_size=0.3, train_size=0.7, random_state=16, shuffle=True)"
   ]
  },
  {
   "cell_type": "code",
   "execution_count": 31,
   "id": "a5b64193-ea4d-4d40-bba0-57c6931323d0",
   "metadata": {
    "tags": []
   },
   "outputs": [
    {
     "data": {
      "text/plain": [
       "((3421, 5), (3421,))"
      ]
     },
     "execution_count": 31,
     "metadata": {},
     "output_type": "execute_result"
    }
   ],
   "source": [
    "validation.shape, validation_target.shape"
   ]
  },
  {
   "cell_type": "code",
   "execution_count": 32,
   "id": "8686b932-521b-4951-9b80-094e8ff0d8d7",
   "metadata": {
    "tags": []
   },
   "outputs": [
    {
     "data": {
      "text/plain": [
       "((7982, 5), (7982,))"
      ]
     },
     "execution_count": 32,
     "metadata": {},
     "output_type": "execute_result"
    }
   ],
   "source": [
    "train.shape, train_target.shape"
   ]
  },
  {
   "cell_type": "code",
   "execution_count": 33,
   "id": "a4fe29b1-9a67-4a61-8d2a-3cad81034883",
   "metadata": {
    "tags": []
   },
   "outputs": [
    {
     "data": {
      "text/html": [
       "<div>\n",
       "<style scoped>\n",
       "    .dataframe tbody tr th:only-of-type {\n",
       "        vertical-align: middle;\n",
       "    }\n",
       "\n",
       "    .dataframe tbody tr th {\n",
       "        vertical-align: top;\n",
       "    }\n",
       "\n",
       "    .dataframe thead th {\n",
       "        text-align: right;\n",
       "    }\n",
       "</style>\n",
       "<table border=\"1\" class=\"dataframe\">\n",
       "  <thead>\n",
       "    <tr style=\"text-align: right;\">\n",
       "      <th></th>\n",
       "      <th>year</th>\n",
       "      <th>genre_encoded</th>\n",
       "      <th>name_encoded</th>\n",
       "      <th>platform_encoded</th>\n",
       "      <th>publisher_encoded</th>\n",
       "    </tr>\n",
       "  </thead>\n",
       "  <tbody>\n",
       "    <tr>\n",
       "      <th>9378</th>\n",
       "      <td>2007.0</td>\n",
       "      <td>0</td>\n",
       "      <td>10321</td>\n",
       "      <td>19</td>\n",
       "      <td>21</td>\n",
       "    </tr>\n",
       "    <tr>\n",
       "      <th>10742</th>\n",
       "      <td>2005.0</td>\n",
       "      <td>6</td>\n",
       "      <td>3211</td>\n",
       "      <td>4</td>\n",
       "      <td>564</td>\n",
       "    </tr>\n",
       "    <tr>\n",
       "      <th>2774</th>\n",
       "      <td>2012.0</td>\n",
       "      <td>2</td>\n",
       "      <td>7043</td>\n",
       "      <td>28</td>\n",
       "      <td>55</td>\n",
       "    </tr>\n",
       "    <tr>\n",
       "      <th>9608</th>\n",
       "      <td>2006.0</td>\n",
       "      <td>1</td>\n",
       "      <td>1445</td>\n",
       "      <td>16</td>\n",
       "      <td>243</td>\n",
       "    </tr>\n",
       "    <tr>\n",
       "      <th>8560</th>\n",
       "      <td>2007.0</td>\n",
       "      <td>7</td>\n",
       "      <td>2693</td>\n",
       "      <td>19</td>\n",
       "      <td>156</td>\n",
       "    </tr>\n",
       "    <tr>\n",
       "      <th>...</th>\n",
       "      <td>...</td>\n",
       "      <td>...</td>\n",
       "      <td>...</td>\n",
       "      <td>...</td>\n",
       "      <td>...</td>\n",
       "    </tr>\n",
       "    <tr>\n",
       "      <th>8034</th>\n",
       "      <td>2008.0</td>\n",
       "      <td>7</td>\n",
       "      <td>9263</td>\n",
       "      <td>4</td>\n",
       "      <td>347</td>\n",
       "    </tr>\n",
       "    <tr>\n",
       "      <th>13803</th>\n",
       "      <td>2001.0</td>\n",
       "      <td>10</td>\n",
       "      <td>278</td>\n",
       "      <td>16</td>\n",
       "      <td>17</td>\n",
       "    </tr>\n",
       "    <tr>\n",
       "      <th>2835</th>\n",
       "      <td>2012.0</td>\n",
       "      <td>0</td>\n",
       "      <td>8175</td>\n",
       "      <td>2</td>\n",
       "      <td>525</td>\n",
       "    </tr>\n",
       "    <tr>\n",
       "      <th>4504</th>\n",
       "      <td>2010.0</td>\n",
       "      <td>10</td>\n",
       "      <td>2889</td>\n",
       "      <td>13</td>\n",
       "      <td>138</td>\n",
       "    </tr>\n",
       "    <tr>\n",
       "      <th>13007</th>\n",
       "      <td>2002.0</td>\n",
       "      <td>0</td>\n",
       "      <td>765</td>\n",
       "      <td>7</td>\n",
       "      <td>53</td>\n",
       "    </tr>\n",
       "  </tbody>\n",
       "</table>\n",
       "<p>3421 rows × 5 columns</p>\n",
       "</div>"
      ],
      "text/plain": [
       "         year  genre_encoded  name_encoded  platform_encoded  \\\n",
       "9378   2007.0              0         10321                19   \n",
       "10742  2005.0              6          3211                 4   \n",
       "2774   2012.0              2          7043                28   \n",
       "9608   2006.0              1          1445                16   \n",
       "8560   2007.0              7          2693                19   \n",
       "...       ...            ...           ...               ...   \n",
       "8034   2008.0              7          9263                 4   \n",
       "13803  2001.0             10           278                16   \n",
       "2835   2012.0              0          8175                 2   \n",
       "4504   2010.0             10          2889                13   \n",
       "13007  2002.0              0           765                 7   \n",
       "\n",
       "       publisher_encoded  \n",
       "9378                  21  \n",
       "10742                564  \n",
       "2774                  55  \n",
       "9608                 243  \n",
       "8560                 156  \n",
       "...                  ...  \n",
       "8034                 347  \n",
       "13803                 17  \n",
       "2835                 525  \n",
       "4504                 138  \n",
       "13007                 53  \n",
       "\n",
       "[3421 rows x 5 columns]"
      ]
     },
     "execution_count": 33,
     "metadata": {},
     "output_type": "execute_result"
    }
   ],
   "source": [
    "validation"
   ]
  },
  {
   "cell_type": "code",
   "execution_count": 34,
   "id": "66623268-7bb8-4422-9d9f-e9d02dcfe4a0",
   "metadata": {
    "tags": []
   },
   "outputs": [
    {
     "data": {
      "text/html": [
       "<div>\n",
       "<style scoped>\n",
       "    .dataframe tbody tr th:only-of-type {\n",
       "        vertical-align: middle;\n",
       "    }\n",
       "\n",
       "    .dataframe tbody tr th {\n",
       "        vertical-align: top;\n",
       "    }\n",
       "\n",
       "    .dataframe thead th {\n",
       "        text-align: right;\n",
       "    }\n",
       "</style>\n",
       "<table border=\"1\" class=\"dataframe\">\n",
       "  <thead>\n",
       "    <tr style=\"text-align: right;\">\n",
       "      <th></th>\n",
       "      <th>year</th>\n",
       "      <th>genre_encoded</th>\n",
       "      <th>name_encoded</th>\n",
       "      <th>platform_encoded</th>\n",
       "      <th>publisher_encoded</th>\n",
       "    </tr>\n",
       "  </thead>\n",
       "  <tbody>\n",
       "    <tr>\n",
       "      <th>1208</th>\n",
       "      <td>2015.0</td>\n",
       "      <td>10</td>\n",
       "      <td>10662</td>\n",
       "      <td>20</td>\n",
       "      <td>69</td>\n",
       "    </tr>\n",
       "    <tr>\n",
       "      <th>16269</th>\n",
       "      <td>1993.0</td>\n",
       "      <td>7</td>\n",
       "      <td>7952</td>\n",
       "      <td>23</td>\n",
       "      <td>465</td>\n",
       "    </tr>\n",
       "    <tr>\n",
       "      <th>15741</th>\n",
       "      <td>1996.0</td>\n",
       "      <td>10</td>\n",
       "      <td>5298</td>\n",
       "      <td>15</td>\n",
       "      <td>455</td>\n",
       "    </tr>\n",
       "    <tr>\n",
       "      <th>14891</th>\n",
       "      <td>1999.0</td>\n",
       "      <td>0</td>\n",
       "      <td>8951</td>\n",
       "      <td>15</td>\n",
       "      <td>288</td>\n",
       "    </tr>\n",
       "    <tr>\n",
       "      <th>11953</th>\n",
       "      <td>2004.0</td>\n",
       "      <td>3</td>\n",
       "      <td>8276</td>\n",
       "      <td>16</td>\n",
       "      <td>445</td>\n",
       "    </tr>\n",
       "    <tr>\n",
       "      <th>...</th>\n",
       "      <td>...</td>\n",
       "      <td>...</td>\n",
       "      <td>...</td>\n",
       "      <td>...</td>\n",
       "      <td>...</td>\n",
       "    </tr>\n",
       "    <tr>\n",
       "      <th>7155</th>\n",
       "      <td>2008.0</td>\n",
       "      <td>1</td>\n",
       "      <td>1761</td>\n",
       "      <td>4</td>\n",
       "      <td>499</td>\n",
       "    </tr>\n",
       "    <tr>\n",
       "      <th>15762</th>\n",
       "      <td>1996.0</td>\n",
       "      <td>10</td>\n",
       "      <td>6424</td>\n",
       "      <td>15</td>\n",
       "      <td>138</td>\n",
       "    </tr>\n",
       "    <tr>\n",
       "      <th>4348</th>\n",
       "      <td>2010.0</td>\n",
       "      <td>1</td>\n",
       "      <td>1149</td>\n",
       "      <td>17</td>\n",
       "      <td>524</td>\n",
       "    </tr>\n",
       "    <tr>\n",
       "      <th>11189</th>\n",
       "      <td>2005.0</td>\n",
       "      <td>7</td>\n",
       "      <td>8821</td>\n",
       "      <td>19</td>\n",
       "      <td>230</td>\n",
       "    </tr>\n",
       "    <tr>\n",
       "      <th>2293</th>\n",
       "      <td>2013.0</td>\n",
       "      <td>1</td>\n",
       "      <td>9872</td>\n",
       "      <td>13</td>\n",
       "      <td>114</td>\n",
       "    </tr>\n",
       "  </tbody>\n",
       "</table>\n",
       "<p>7982 rows × 5 columns</p>\n",
       "</div>"
      ],
      "text/plain": [
       "         year  genre_encoded  name_encoded  platform_encoded  \\\n",
       "1208   2015.0             10         10662                20   \n",
       "16269  1993.0              7          7952                23   \n",
       "15741  1996.0             10          5298                15   \n",
       "14891  1999.0              0          8951                15   \n",
       "11953  2004.0              3          8276                16   \n",
       "...       ...            ...           ...               ...   \n",
       "7155   2008.0              1          1761                 4   \n",
       "15762  1996.0             10          6424                15   \n",
       "4348   2010.0              1          1149                17   \n",
       "11189  2005.0              7          8821                19   \n",
       "2293   2013.0              1          9872                13   \n",
       "\n",
       "       publisher_encoded  \n",
       "1208                  69  \n",
       "16269                465  \n",
       "15741                455  \n",
       "14891                288  \n",
       "11953                445  \n",
       "...                  ...  \n",
       "7155                 499  \n",
       "15762                138  \n",
       "4348                 524  \n",
       "11189                230  \n",
       "2293                 114  \n",
       "\n",
       "[7982 rows x 5 columns]"
      ]
     },
     "execution_count": 34,
     "metadata": {},
     "output_type": "execute_result"
    }
   ],
   "source": [
    "train"
   ]
  },
  {
   "cell_type": "markdown",
   "id": "c00916d4-da7c-4a1a-90e9-c0d5067193d2",
   "metadata": {
    "tags": []
   },
   "source": [
    "<h4> From here on out I will look at several models, based on the standard model taken from the Boston lab. I will start with the intial model and then tune hyperparametres or add more as I go along.\n",
    "\n",
    "There is a big range of updates that will follow, mostly concerning loss functions, activation functions, optimizers, number of layers and numbers of neurons. \n",
    "\n",
    "As a reminder, the most important value I am looking at will be val_mae, which looks at the mean absolute error of the validation set (it renders the error rate which is a way to evaluate the performance of the model). Looking above at the description of the initial dataset, it seems that the global_sales values range between 0.01 and 0.47, with a few sales of over 82 and a max of 82.74. \n",
    "\n",
    "With the next models, I am trying to achieve the lowest val_mae possible, showing that the models can predict the global video games sales. \n",
    "    \n",
    "    "
   ]
  },
  {
   "cell_type": "markdown",
   "id": "2690827e-d3e1-4fa4-84fb-a2701eb34dbe",
   "metadata": {
    "tags": []
   },
   "source": [
    "![image.png](attachment:436e50ff-fdba-4b72-abc8-bdc67c698486.png)"
   ]
  },
  {
   "cell_type": "markdown",
   "id": "a7844922-efeb-4d54-9f9a-4d11677e4f18",
   "metadata": {},
   "source": [
    "<h3> MODEL 1:  BOSTON MODEL </h3>\n",
    "\n",
    "<h4> As mentioned above, the first model and my starting point is the basic Boston model created by Jeremie Wenger in Lab 5. </h4>"
   ]
  },
  {
   "cell_type": "code",
   "execution_count": 35,
   "id": "b11e5a75-6c29-4066-bf7f-f944c558d0bf",
   "metadata": {
    "tags": []
   },
   "outputs": [],
   "source": [
    "tf.keras.backend.clear_session()\n",
    "model1 = tf.keras.models.Sequential()\n",
    "model1.add(tf.keras.layers.Dense(64, activation = 'relu', input_shape = (train.shape[1],)))\n",
    "model1.add(tf.keras.layers.Dense(64, activation = 'relu'))\n",
    "model1.add(tf.keras.layers.Dense(1))\n",
    "model1.compile(optimizer='rmsprop',\n",
    "        loss='mse',\n",
    "        metrics=['mae'])\n"
   ]
  },
  {
   "cell_type": "code",
   "execution_count": 36,
   "id": "3dcbb599-aef5-4741-98e6-0c0899c951c2",
   "metadata": {
    "tags": []
   },
   "outputs": [
    {
     "name": "stdout",
     "output_type": "stream",
     "text": [
      "Model: \"sequential\"\n",
      "_________________________________________________________________\n",
      " Layer (type)                Output Shape              Param #   \n",
      "=================================================================\n",
      " dense (Dense)               (None, 64)                384       \n",
      "                                                                 \n",
      " dense_1 (Dense)             (None, 64)                4160      \n",
      "                                                                 \n",
      " dense_2 (Dense)             (None, 1)                 65        \n",
      "                                                                 \n",
      "=================================================================\n",
      "Total params: 4,609\n",
      "Trainable params: 4,609\n",
      "Non-trainable params: 0\n",
      "_________________________________________________________________\n"
     ]
    }
   ],
   "source": [
    "model1.summary()"
   ]
  },
  {
   "cell_type": "code",
   "execution_count": 37,
   "id": "e7ffeb66-5d6f-41f5-b2ae-2afd5e51b3a5",
   "metadata": {
    "tags": []
   },
   "outputs": [
    {
     "name": "stdout",
     "output_type": "stream",
     "text": [
      "Epoch 1/25\n",
      "1597/1597 [==============================] - 16s 8ms/step - loss: 3381.7407 - mae: 33.1121 - val_loss: 7336.2349 - val_mae: 74.7932\n",
      "Epoch 2/25\n",
      "1597/1597 [==============================] - 13s 8ms/step - loss: 456.9193 - mae: 13.4072 - val_loss: 17.2619 - val_mae: 3.5444\n",
      "Epoch 3/25\n",
      "1597/1597 [==============================] - 12s 7ms/step - loss: 90.0468 - mae: 5.7633 - val_loss: 5.6504 - val_mae: 1.8285\n",
      "Epoch 4/25\n",
      "1597/1597 [==============================] - 13s 8ms/step - loss: 26.6917 - mae: 3.1870 - val_loss: 3.0983 - val_mae: 1.0124\n",
      "Epoch 5/25\n",
      "1597/1597 [==============================] - 13s 8ms/step - loss: 9.1073 - mae: 1.8952 - val_loss: 2.1274 - val_mae: 0.6628\n",
      "Epoch 6/25\n",
      "1597/1597 [==============================] - 13s 8ms/step - loss: 3.8910 - mae: 0.9868 - val_loss: 2.1620 - val_mae: 0.6174\n",
      "Epoch 7/25\n",
      "1597/1597 [==============================] - 13s 8ms/step - loss: 2.6995 - mae: 0.6322 - val_loss: 1.9783 - val_mae: 0.5062\n",
      "Epoch 8/25\n",
      "1597/1597 [==============================] - 12s 8ms/step - loss: 2.6324 - mae: 0.5808 - val_loss: 1.9608 - val_mae: 0.5092\n",
      "Epoch 9/25\n",
      "1597/1597 [==============================] - 11s 7ms/step - loss: 2.6021 - mae: 0.5629 - val_loss: 1.9265 - val_mae: 0.5489\n",
      "Epoch 10/25\n",
      "1597/1597 [==============================] - 13s 8ms/step - loss: 2.5911 - mae: 0.5671 - val_loss: 1.9280 - val_mae: 0.5350\n",
      "Epoch 11/25\n",
      "1597/1597 [==============================] - 12s 8ms/step - loss: 2.5863 - mae: 0.5707 - val_loss: 1.9293 - val_mae: 0.5275\n",
      "Epoch 12/25\n",
      "1597/1597 [==============================] - 13s 8ms/step - loss: 2.5877 - mae: 0.5652 - val_loss: 1.9387 - val_mae: 0.5289\n",
      "Epoch 13/25\n",
      "1597/1597 [==============================] - 13s 8ms/step - loss: 2.5858 - mae: 0.5699 - val_loss: 1.9227 - val_mae: 0.5568\n",
      "Epoch 14/25\n",
      "1597/1597 [==============================] - 12s 8ms/step - loss: 2.5834 - mae: 0.5665 - val_loss: 1.9215 - val_mae: 0.5698\n",
      "Epoch 15/25\n",
      "1597/1597 [==============================] - 13s 8ms/step - loss: 2.5833 - mae: 0.5718 - val_loss: 1.9237 - val_mae: 0.5519\n",
      "Epoch 16/25\n",
      "1597/1597 [==============================] - 12s 8ms/step - loss: 2.5833 - mae: 0.5675 - val_loss: 1.9220 - val_mae: 0.5630\n",
      "Epoch 17/25\n",
      "1597/1597 [==============================] - 12s 8ms/step - loss: 2.5838 - mae: 0.5694 - val_loss: 1.9268 - val_mae: 0.5437\n",
      "Epoch 18/25\n",
      "1597/1597 [==============================] - 12s 8ms/step - loss: 2.5841 - mae: 0.5674 - val_loss: 1.9223 - val_mae: 0.5633\n",
      "Epoch 19/25\n",
      "1597/1597 [==============================] - 12s 8ms/step - loss: 2.5847 - mae: 0.5671 - val_loss: 1.9237 - val_mae: 0.5519\n",
      "Epoch 20/25\n",
      "1597/1597 [==============================] - 12s 8ms/step - loss: 2.5841 - mae: 0.5662 - val_loss: 1.9218 - val_mae: 0.5651\n",
      "Epoch 21/25\n",
      "1597/1597 [==============================] - 13s 8ms/step - loss: 2.5837 - mae: 0.5670 - val_loss: 1.9248 - val_mae: 0.5519\n",
      "Epoch 22/25\n",
      "1597/1597 [==============================] - 12s 8ms/step - loss: 2.5841 - mae: 0.5664 - val_loss: 1.9240 - val_mae: 0.5516\n",
      "Epoch 23/25\n",
      "1597/1597 [==============================] - 13s 8ms/step - loss: 2.5833 - mae: 0.5711 - val_loss: 1.9238 - val_mae: 0.5513\n",
      "Epoch 24/25\n",
      "1597/1597 [==============================] - 12s 8ms/step - loss: 2.5834 - mae: 0.5695 - val_loss: 1.9261 - val_mae: 0.5465\n",
      "Epoch 25/25\n",
      "1597/1597 [==============================] - 13s 8ms/step - loss: 2.5850 - mae: 0.5668 - val_loss: 1.9222 - val_mae: 0.5651\n"
     ]
    }
   ],
   "source": [
    "history1 = model1.fit(\n",
    "        train,\n",
    "        train_target,\n",
    "        validation_data=(validation, validation_target),\n",
    "        epochs= 25, batch_size= 5, verbose= 1 \n",
    "        )"
   ]
  },
  {
   "cell_type": "code",
   "execution_count": 38,
   "id": "6c12e867-5eee-41d7-900a-83d1ff9983df",
   "metadata": {
    "tags": []
   },
   "outputs": [
    {
     "data": {
      "text/plain": [
       "0.506214439868927"
      ]
     },
     "execution_count": 38,
     "metadata": {},
     "output_type": "execute_result"
    }
   ],
   "source": [
    "min(history1.history['val_mae'])"
   ]
  },
  {
   "cell_type": "markdown",
   "id": "bfd5d407-c532-479f-9f9b-0d46fada7705",
   "metadata": {},
   "source": [
    "------------------------------------------------"
   ]
  },
  {
   "cell_type": "markdown",
   "id": "11a54bb3-3f69-4d15-bfcf-7d336752a858",
   "metadata": {},
   "source": [
    "<h3> MODEL 2: 132 NEURONS ON ONE LAYER AND BATCH SIZE OF 15 </h3> "
   ]
  },
  {
   "cell_type": "code",
   "execution_count": 39,
   "id": "d92cb650-bc67-4767-851d-13f99ee79200",
   "metadata": {
    "tags": []
   },
   "outputs": [],
   "source": [
    "tf.keras.backend.clear_session()\n",
    "model2 = tf.keras.models.Sequential()\n",
    "model2.add(tf.keras.layers.Dense(64, activation = 'relu', input_shape = (train.shape[1],)))\n",
    "model2.add(tf.keras.layers.Dense(64, activation = 'relu'))\n",
    "model2.add(tf.keras.layers.Dense(132, activation = 'relu'))\n",
    "model2.add(tf.keras.layers.Dense(1))\n",
    "model2.compile(optimizer='rmsprop',\n",
    "        loss='mse',\n",
    "        metrics=['mae'])\n"
   ]
  },
  {
   "cell_type": "code",
   "execution_count": 40,
   "id": "7c55a0d8-2c3f-4f69-843d-4013cdd1b5d7",
   "metadata": {
    "tags": []
   },
   "outputs": [
    {
     "name": "stdout",
     "output_type": "stream",
     "text": [
      "Epoch 1/25\n",
      "533/533 [==============================] - 6s 9ms/step - loss: 4986.3423 - mae: 30.4266 - val_loss: 3.4027 - val_mae: 1.0926\n",
      "Epoch 2/25\n",
      "533/533 [==============================] - 4s 8ms/step - loss: 3.7205 - mae: 0.7717 - val_loss: 1.9229 - val_mae: 0.5563\n",
      "Epoch 3/25\n",
      "533/533 [==============================] - 4s 8ms/step - loss: 2.5804 - mae: 0.5873 - val_loss: 1.9238 - val_mae: 0.5507\n",
      "Epoch 4/25\n",
      "533/533 [==============================] - 4s 8ms/step - loss: 2.5822 - mae: 0.5863 - val_loss: 1.9268 - val_mae: 0.5397\n",
      "Epoch 5/25\n",
      "533/533 [==============================] - 5s 9ms/step - loss: 2.5812 - mae: 0.5812 - val_loss: 1.9222 - val_mae: 0.5943\n",
      "Epoch 6/25\n",
      "533/533 [==============================] - 5s 9ms/step - loss: 2.5807 - mae: 0.5894 - val_loss: 1.9213 - val_mae: 0.5731\n",
      "Epoch 7/25\n",
      "533/533 [==============================] - 4s 8ms/step - loss: 2.5809 - mae: 0.5850 - val_loss: 1.9213 - val_mae: 0.5729\n",
      "Epoch 8/25\n",
      "533/533 [==============================] - 5s 9ms/step - loss: 2.5812 - mae: 0.5843 - val_loss: 1.9218 - val_mae: 0.5906\n",
      "Epoch 9/25\n",
      "533/533 [==============================] - 5s 10ms/step - loss: 2.5815 - mae: 0.5883 - val_loss: 1.9219 - val_mae: 0.5640\n",
      "Epoch 10/25\n",
      "533/533 [==============================] - 5s 10ms/step - loss: 2.5822 - mae: 0.5856 - val_loss: 1.9260 - val_mae: 0.5420\n",
      "Epoch 11/25\n",
      "533/533 [==============================] - 5s 9ms/step - loss: 2.5821 - mae: 0.5857 - val_loss: 1.9274 - val_mae: 0.5378\n",
      "Epoch 12/25\n",
      "533/533 [==============================] - 4s 8ms/step - loss: 2.5820 - mae: 0.5831 - val_loss: 1.9213 - val_mae: 0.5741\n",
      "Epoch 13/25\n",
      "533/533 [==============================] - 4s 8ms/step - loss: 2.5824 - mae: 0.5849 - val_loss: 1.9215 - val_mae: 0.5685\n",
      "Epoch 14/25\n",
      "533/533 [==============================] - 4s 8ms/step - loss: 2.5808 - mae: 0.5831 - val_loss: 1.9228 - val_mae: 0.5990\n",
      "Epoch 15/25\n",
      "533/533 [==============================] - 5s 9ms/step - loss: 2.5816 - mae: 0.5904 - val_loss: 1.9220 - val_mae: 0.5631\n",
      "Epoch 16/25\n",
      "533/533 [==============================] - 5s 9ms/step - loss: 2.5813 - mae: 0.5841 - val_loss: 1.9213 - val_mae: 0.5824\n",
      "Epoch 17/25\n",
      "533/533 [==============================] - 5s 8ms/step - loss: 2.5821 - mae: 0.5855 - val_loss: 1.9233 - val_mae: 0.5536\n",
      "Epoch 18/25\n",
      "533/533 [==============================] - 4s 8ms/step - loss: 2.5817 - mae: 0.5841 - val_loss: 1.9212 - val_mae: 0.5757\n",
      "Epoch 19/25\n",
      "533/533 [==============================] - 5s 9ms/step - loss: 2.5813 - mae: 0.5847 - val_loss: 1.9216 - val_mae: 0.5670\n",
      "Epoch 20/25\n",
      "533/533 [==============================] - 4s 8ms/step - loss: 2.5816 - mae: 0.5831 - val_loss: 1.9235 - val_mae: 0.6034\n",
      "Epoch 21/25\n",
      "533/533 [==============================] - 4s 8ms/step - loss: 2.5815 - mae: 0.5850 - val_loss: 1.9215 - val_mae: 0.5682\n",
      "Epoch 22/25\n",
      "533/533 [==============================] - 5s 9ms/step - loss: 2.5814 - mae: 0.5832 - val_loss: 1.9212 - val_mae: 0.5793\n",
      "Epoch 23/25\n",
      "533/533 [==============================] - 5s 9ms/step - loss: 2.5815 - mae: 0.5886 - val_loss: 1.9221 - val_mae: 0.5622\n",
      "Epoch 24/25\n",
      "533/533 [==============================] - 5s 9ms/step - loss: 2.5816 - mae: 0.5849 - val_loss: 1.9221 - val_mae: 0.5616\n",
      "Epoch 25/25\n",
      "533/533 [==============================] - 5s 9ms/step - loss: 2.5821 - mae: 0.5840 - val_loss: 1.9212 - val_mae: 0.5745\n"
     ]
    }
   ],
   "source": [
    "history2 = model2.fit(\n",
    "        train,\n",
    "        train_target,\n",
    "        validation_data=(validation, validation_target),\n",
    "        epochs= 25, batch_size= 15, verbose= 1 \n",
    "        )"
   ]
  },
  {
   "cell_type": "code",
   "execution_count": 41,
   "id": "67319d2d-4dbf-443b-9785-4426ed4be3b2",
   "metadata": {
    "tags": []
   },
   "outputs": [
    {
     "data": {
      "text/plain": [
       "0.5378407835960388"
      ]
     },
     "execution_count": 41,
     "metadata": {},
     "output_type": "execute_result"
    }
   ],
   "source": [
    "min(history2.history['val_mae'])"
   ]
  },
  {
   "cell_type": "markdown",
   "id": "fd91cce8-6fc0-4df2-9d3d-612ba50dd739",
   "metadata": {},
   "source": [
    "-----------------------------------------------------"
   ]
  },
  {
   "cell_type": "markdown",
   "id": "2ac6756c-5461-4581-b6a7-79bd1a587850",
   "metadata": {},
   "source": [
    "<h3> MODEL 3:  ONE MORE LAYER OF 64 AND BATCH SIZE OF 20</h3> \n",
    "\n",
    "<h4> There is not much of a difference between Model 1 and Model 2, so I am adding additional layers with the first layer of 132 neurons and batch size of 20. </h4>"
   ]
  },
  {
   "cell_type": "code",
   "execution_count": 42,
   "id": "c0d35a2c-4d54-4239-8219-8c6d88ff8c10",
   "metadata": {
    "tags": []
   },
   "outputs": [],
   "source": [
    "tf.keras.backend.clear_session()\n",
    "model3 = tf.keras.models.Sequential()\n",
    "model3.add(tf.keras.layers.Dense(132, activation = 'relu', input_shape = (train.shape[1],)))\n",
    "model3.add(tf.keras.layers.Dense(64, activation = 'relu'))\n",
    "model3.add(tf.keras.layers.Dense(64, activation = 'relu'))\n",
    "model3.add(tf.keras.layers.Dense(64, activation = 'relu'))\n",
    "model3.add(tf.keras.layers.Dense(1))\n",
    "model3.compile(optimizer='rmsprop',\n",
    "        loss='mse',\n",
    "        metrics=['mae'])"
   ]
  },
  {
   "cell_type": "code",
   "execution_count": null,
   "id": "3499577d-7c3c-49f0-9c83-8d6a98e69ed0",
   "metadata": {
    "tags": []
   },
   "outputs": [
    {
     "name": "stdout",
     "output_type": "stream",
     "text": [
      "Epoch 1/25\n",
      "  3/400 [..............................] - ETA: 12s - loss: 130362.1094 - mae: 247.5479"
     ]
    }
   ],
   "source": [
    "history3 = model3.fit(\n",
    "        train,\n",
    "        train_target,\n",
    "        validation_data=(validation, validation_target),\n",
    "        epochs= 25, batch_size= 20, verbose= 1 \n",
    "        )"
   ]
  },
  {
   "cell_type": "code",
   "execution_count": null,
   "id": "e5d93dd2-3e67-455c-beb8-8bb9741ab005",
   "metadata": {
    "tags": []
   },
   "outputs": [],
   "source": [
    "min(history3.history['val_mae'])"
   ]
  },
  {
   "cell_type": "markdown",
   "id": "63aeddae-8197-42ed-a2ab-923960ea10d1",
   "metadata": {},
   "source": [
    "-------------------------------------"
   ]
  },
  {
   "cell_type": "markdown",
   "id": "6704e03f-0594-4b62-bdba-9e66f704e432",
   "metadata": {},
   "source": [
    "<h3> MODEL 5: 132 NEURONS ON THREE LAYERS AND BATCH SIZE OF 30 </h3> \n",
    "\n",
    "<h4> I wonder if increasing the number of neurons and the batch size will be able to give us a much smaller val_mae.  </h4> "
   ]
  },
  {
   "cell_type": "code",
   "execution_count": null,
   "id": "3b2f9d84-a760-48c2-a7fa-e948be52ab6b",
   "metadata": {
    "tags": []
   },
   "outputs": [],
   "source": [
    "tf.keras.backend.clear_session()\n",
    "model5 = tf.keras.models.Sequential()\n",
    "model5.add(tf.keras.layers.Dense(132, activation = 'relu', input_shape = (train.shape[1],)))\n",
    "model5.add(tf.keras.layers.Dense(132, activation = 'relu'))\n",
    "model5.add(tf.keras.layers.Dense(132, activation = 'relu'))\n",
    "model5.add(tf.keras.layers.Dense(64, activation = 'relu'))\n",
    "model5.add(tf.keras.layers.Dense(1))\n",
    "model5.compile(optimizer='rmsprop',\n",
    "        loss='mse',\n",
    "        metrics=['mae'])\n",
    "    "
   ]
  },
  {
   "cell_type": "code",
   "execution_count": null,
   "id": "63728fdd-c48b-4f8b-8fb0-dffe80beb241",
   "metadata": {
    "tags": []
   },
   "outputs": [],
   "source": [
    "history5 = model5.fit(\n",
    "        train,\n",
    "        train_target,\n",
    "        validation_data=(validation, validation_target),\n",
    "        epochs= 25, batch_size= 30, verbose= 1 \n",
    "        )"
   ]
  },
  {
   "cell_type": "code",
   "execution_count": null,
   "id": "a13d2717-784e-4f4f-9fb6-5520f2c68940",
   "metadata": {
    "tags": []
   },
   "outputs": [],
   "source": [
    "min(history5.history['val_mae'])"
   ]
  },
  {
   "cell_type": "markdown",
   "id": "48b15067-2978-4a06-b47d-5d75c09ca289",
   "metadata": {},
   "source": [
    "<h4> As mentioned above, the value of interest is val_mae. It started from 0.52 and it is not brought down to 0.46, which makes it the most successful model so far. I will introduce a visualisation in order to see the correlation between the training loss and the validation loss. "
   ]
  },
  {
   "cell_type": "markdown",
   "id": "35f7b1c6-1b56-4a41-b7b3-8304667fe9a7",
   "metadata": {},
   "source": [
    "<h3> Visualisation of the best model so far "
   ]
  },
  {
   "cell_type": "code",
   "execution_count": null,
   "id": "cf528eb5-fc68-49d1-a597-a02640582116",
   "metadata": {
    "tags": []
   },
   "outputs": [],
   "source": [
    "def plot_history(history):\n",
    " \n",
    "  \n",
    "    loss = history.history[\"loss\"]\n",
    "    val_loss = history.history[\"val_loss\"]\n",
    "    epochs = range(1, len(loss) + 1)\n",
    " \n",
    "    fig, (ax1, ax2) = plt.subplots(nrows=1,ncols=2, constrained_layout=True, figsize=(10,3))\n",
    "\n",
    " \n",
    "    ax1.plot(epochs, loss,  label=\"Training loss\")\n",
    "    ax1.plot(epochs, val_loss,  label=\"Validation loss\")\n",
    "    ax1.set_title(\"Training and validation loss\")\n",
    "    ax1.legend()\n",
    "  \n",
    "    plt.show()"
   ]
  },
  {
   "cell_type": "code",
   "execution_count": null,
   "id": "02023707-88b5-4fb0-92d3-6ad76068e908",
   "metadata": {
    "tags": []
   },
   "outputs": [],
   "source": [
    "plot_history(history5)"
   ]
  },
  {
   "cell_type": "markdown",
   "id": "b2cb26db-d568-4fde-8e23-1dd5baf32d23",
   "metadata": {},
   "source": [
    "<h3> It is interesting to point out that the training loss started up really high at 3592.4045 and immediately after it had such a rapid decline that it seems to be lost within the validation loss representation, which has quite a steady trajectory. "
   ]
  },
  {
   "cell_type": "markdown",
   "id": "48c97a19-e7f9-4ead-84be-25248c6dd129",
   "metadata": {
    "tags": []
   },
   "source": [
    "-------------------------------"
   ]
  },
  {
   "cell_type": "markdown",
   "id": "ee0ed568-eba3-450b-a1d5-c3be681f60dc",
   "metadata": {},
   "source": [
    "<h3> MODEL 6: SGD, LEARNING RATE OF 0.1 AND BATCH SIZE OF 5 </h3> \n",
    "\n",
    "<h4> The next model will have the same architecture as our best model so far with two updates. I will apply a stochastic gradient descent optimizer, with a learning rate of 0.1 and a batch size of 5 </h4> "
   ]
  },
  {
   "cell_type": "code",
   "execution_count": null,
   "id": "e38dd3ab-a850-455d-a7c8-9e2c35427055",
   "metadata": {
    "tags": []
   },
   "outputs": [],
   "source": [
    "tf.keras.backend.clear_session()\n",
    "model6 = tf.keras.models.Sequential()\n",
    "model6.add(tf.keras.layers.Dense(132, activation = 'sigmoid', input_shape = (train.shape[1],)))\n",
    "model6.add(tf.keras.layers.Dense(132, activation = 'sigmoid'))\n",
    "model6.add(tf.keras.layers.Dense(132, activation = 'sigmoid'))\n",
    "model6.add(tf.keras.layers.Dense(64, activation = 'sigmoid'))\n",
    "model6.add(tf.keras.layers.Dense(1))\n",
    "model6.compile(optimizer = SGD(learning_rate=0.01),\n",
    "        loss='mse',\n",
    "        metrics=['mae'])\n",
    "    "
   ]
  },
  {
   "cell_type": "code",
   "execution_count": null,
   "id": "74a29f7d-ec8c-4d89-981f-c0c4c326fdce",
   "metadata": {
    "tags": []
   },
   "outputs": [],
   "source": [
    "history6 = model6.fit(\n",
    "        train,\n",
    "        train_target,\n",
    "        validation_data=(validation, validation_target),\n",
    "        epochs= 25, batch_size= 5, verbose= 1 \n",
    "        )"
   ]
  },
  {
   "cell_type": "code",
   "execution_count": null,
   "id": "a01b9348-7f94-4717-bdc7-9054ce3a46b3",
   "metadata": {
    "tags": []
   },
   "outputs": [],
   "source": [
    "min(history6.history['val_mae'])"
   ]
  },
  {
   "cell_type": "code",
   "execution_count": null,
   "id": "656e3b35-4df9-49ec-b946-896bf93d9cb2",
   "metadata": {
    "tags": []
   },
   "outputs": [],
   "source": [
    "def plot_history(history):\n",
    " \n",
    "  \n",
    "    loss = history.history[\"loss\"]\n",
    "    val_loss = history.history[\"val_loss\"]\n",
    "    epochs = range(1, len(loss) + 1)\n",
    " \n",
    "    fig, (ax1, ax2) = plt.subplots(nrows=1,ncols=2, constrained_layout=True, figsize=(10,3))\n",
    "\n",
    " \n",
    "    ax2.plot(epochs, loss,  label=\"Training loss\")\n",
    "    ax2.plot(epochs, val_loss,  label=\"Validation loss\")\n",
    "    ax2.set_title(\"Training and validation loss\")\n",
    "    ax2.legend()\n",
    "    plt.show()"
   ]
  },
  {
   "cell_type": "code",
   "execution_count": null,
   "id": "f16c2506-e2b8-4bb4-af7b-711cf9de7332",
   "metadata": {
    "tags": []
   },
   "outputs": [],
   "source": [
    "plot_history(history6)"
   ]
  },
  {
   "cell_type": "markdown",
   "id": "5798036e-c1c2-49a0-b6c8-1bee90629652",
   "metadata": {},
   "source": [
    "<h3> With some updates, this model brought the val_mae to 0.49. Both the training loss and the validation loss have quite a steady trajectory. "
   ]
  },
  {
   "cell_type": "markdown",
   "id": "63c553e8-2474-4a5b-b370-18d2dcad5d11",
   "metadata": {},
   "source": [
    "--------------------------"
   ]
  },
  {
   "cell_type": "markdown",
   "id": "19e3712d-1a62-418a-957b-092ad55f4d3a",
   "metadata": {},
   "source": [
    "<h3> MODEL 7: TWO LAYERS OF 64 NEURONS, SGD, LEARNING RATE OF 0.3 AND 20 EPOCHS </h3> \n"
   ]
  },
  {
   "cell_type": "code",
   "execution_count": null,
   "id": "69f9f7a2-37d2-4328-8511-cdc6642df623",
   "metadata": {
    "tags": []
   },
   "outputs": [],
   "source": [
    "tf.keras.backend.clear_session()\n",
    "model7 = tf.keras.models.Sequential()\n",
    "model7.add(tf.keras.layers.Dense(64, activation = 'sigmoid', input_shape = (train.shape[1],)))\n",
    "model7.add(tf.keras.layers.Dense(64, activation = 'sigmoid'))\n",
    "model7.add(tf.keras.layers.Dense(1))\n",
    "model7.compile(optimizer = SGD(learning_rate=0.03),\n",
    "        loss='mse',\n",
    "        metrics=['mae'])\n",
    "    "
   ]
  },
  {
   "cell_type": "code",
   "execution_count": null,
   "id": "5cf613fa-9249-4692-9db7-671b1c2ff8ad",
   "metadata": {
    "tags": []
   },
   "outputs": [],
   "source": [
    "history7 = model7.fit(\n",
    "        train,\n",
    "        train_target,\n",
    "        validation_data=(validation, validation_target),\n",
    "        epochs= 20, batch_size= 5, verbose= 1 \n",
    "        )"
   ]
  },
  {
   "cell_type": "code",
   "execution_count": null,
   "id": "d451fcbd-f7d3-47b5-a452-63a2a53f637c",
   "metadata": {
    "tags": []
   },
   "outputs": [],
   "source": [
    "min(history7.history['val_mae'])"
   ]
  },
  {
   "cell_type": "markdown",
   "id": "6006fe93-2696-4272-a601-d2a73b2eb522",
   "metadata": {},
   "source": [
    "-------------------------------------------"
   ]
  },
  {
   "cell_type": "markdown",
   "id": "ab50fd2c-5e18-4d5b-9525-8d15ef638f65",
   "metadata": {},
   "source": [
    "<h3> MODEL 8: LOW BATCH SIZE OF 1 AND LEARNING RATE OF 0.001 </h3> \n",
    "\n",
    "<h4> According to the Chollet (2021), this activation function used to be popular in the early days of neural networks, therefore I will be trying it to see the response. "
   ]
  },
  {
   "cell_type": "code",
   "execution_count": null,
   "id": "93e578db-4744-4aef-818b-b740d7c3bcc5",
   "metadata": {
    "tags": []
   },
   "outputs": [],
   "source": [
    "tf.keras.backend.clear_session()\n",
    "model8 = tf.keras.models.Sequential()\n",
    "model8.add(tf.keras.layers.Dense(64, activation = 'tanh', input_shape = (train.shape[1],)))\n",
    "model8.add(tf.keras.layers.Dense(64, activation = 'tanh'))\n",
    "model8.add(tf.keras.layers.Dense(1))\n",
    "model8.compile(optimizer = SGD(learning_rate=0.001),\n",
    "        loss='mse',\n",
    "        metrics=['mae'])\n",
    "    "
   ]
  },
  {
   "cell_type": "code",
   "execution_count": null,
   "id": "48219694-5234-406e-bb6f-8b34a8679cbc",
   "metadata": {
    "tags": []
   },
   "outputs": [],
   "source": [
    "history8 = model8.fit(\n",
    "        train,\n",
    "        train_target,\n",
    "        validation_data=(validation, validation_target),\n",
    "        epochs= 20, batch_size= 1, verbose= 1 \n",
    "        )"
   ]
  },
  {
   "cell_type": "code",
   "execution_count": null,
   "id": "1d507c4a-b9e2-4188-882d-f73f60c731cc",
   "metadata": {
    "tags": []
   },
   "outputs": [],
   "source": [
    "min(history8.history['val_mae'])"
   ]
  },
  {
   "cell_type": "markdown",
   "id": "2be5d51f-755f-414b-bb04-21c8c41dc827",
   "metadata": {},
   "source": [
    "<h4> It seems the tanh activation function gives quite high val_mae, so I will not be using it for the rest of this report. "
   ]
  },
  {
   "cell_type": "markdown",
   "id": "9044ec59-b1c1-4d40-b1c8-342612d757fd",
   "metadata": {},
   "source": [
    "----------------------------------------------------"
   ]
  },
  {
   "cell_type": "markdown",
   "id": "6a12f6e9-ba9b-4b1d-9a3b-fbbaefe3de94",
   "metadata": {},
   "source": [
    "<h3> MODEL 9: EVEN LOWER LEARNING RATE OF 0.0001 </h3> \n",
    "\n",
    "<h4> Even though we have tuned several parametres so far and I have brought down the val_mae to a low 0.46, I want to try to update more parametres to see if I can continue lowering the validation MAE. I will now update the learning rate to 0.0001 in the first successful model. "
   ]
  },
  {
   "cell_type": "code",
   "execution_count": null,
   "id": "5977d6c2-680c-4df0-be37-d7322c23cc58",
   "metadata": {
    "tags": []
   },
   "outputs": [],
   "source": [
    "tf.keras.backend.clear_session()\n",
    "model9 = tf.keras.models.Sequential()\n",
    "model9.add(tf.keras.layers.Dense(64, activation = 'sigmoid', input_shape = (train.shape[1],)))\n",
    "model9.add(tf.keras.layers.Dense(64, activation = 'sigmoid'))\n",
    "model9.add(tf.keras.layers.Dense(1))\n",
    "model9.compile(optimizer = SGD(learning_rate=0.0001),\n",
    "        loss='mse',\n",
    "        metrics=['mae'])\n",
    "    "
   ]
  },
  {
   "cell_type": "code",
   "execution_count": null,
   "id": "afdd20da-1622-45bb-9191-f4fd1e95208e",
   "metadata": {
    "tags": []
   },
   "outputs": [],
   "source": [
    "history9 = model9.fit(\n",
    "        train,\n",
    "        train_target,\n",
    "        validation_data=(validation, validation_target),\n",
    "        epochs= 20, batch_size= 1, verbose= 1 \n",
    "        )"
   ]
  },
  {
   "cell_type": "code",
   "execution_count": null,
   "id": "cd207fbc-c893-4ac1-b23a-a6b4bd90a7c0",
   "metadata": {
    "tags": []
   },
   "outputs": [],
   "source": [
    "min(history9.history['val_mae'])"
   ]
  },
  {
   "cell_type": "markdown",
   "id": "a93f03ca-e223-446a-9747-9a1e1feb9186",
   "metadata": {},
   "source": [
    "--------------------------------------------------------------------------"
   ]
  },
  {
   "cell_type": "markdown",
   "id": "aeac3e7e-21f6-46e7-9cce-86ed26091906",
   "metadata": {},
   "source": [
    "<h3> MODEL 10: HUBER LOSS, BATCH SIZE OF 1 AND 20 EPOCHS </h3>"
   ]
  },
  {
   "cell_type": "code",
   "execution_count": null,
   "id": "e08e5853-528d-455e-a8fa-d533dd28c70d",
   "metadata": {
    "tags": []
   },
   "outputs": [],
   "source": [
    "tf.keras.backend.clear_session()\n",
    "model10 = tf.keras.models.Sequential()\n",
    "model10.add(tf.keras.layers.Dense(64, activation = 'relu', input_shape = (train.shape[1],)))\n",
    "model10.add(tf.keras.layers.Dense(64, activation = 'relu'))\n",
    "model10.add(tf.keras.layers.Dense(1))\n",
    "model10.compile(optimizer = SGD(learning_rate=0.0001),\n",
    "        loss='huber_loss',\n",
    "        metrics=['mae'])\n",
    "    "
   ]
  },
  {
   "cell_type": "code",
   "execution_count": null,
   "id": "5cd7e592-e830-45cb-ad0f-8f0162ba8967",
   "metadata": {
    "tags": []
   },
   "outputs": [],
   "source": [
    "history10 = model10.fit(\n",
    "        train,\n",
    "        train_target,\n",
    "        validation_data=(validation, validation_target),\n",
    "        epochs= 20, batch_size= 1, verbose= 1 \n",
    "        )"
   ]
  },
  {
   "cell_type": "code",
   "execution_count": null,
   "id": "919fb4bd-7157-4483-b5d6-8a4c81c4fb68",
   "metadata": {
    "tags": []
   },
   "outputs": [],
   "source": [
    "min(history10.history['val_mae'])"
   ]
  },
  {
   "cell_type": "markdown",
   "id": "86e87462-7c96-457b-bab3-7753e3a6743b",
   "metadata": {},
   "source": [
    "<h4> It is not lower than 0.46, however 0.47 showes that it this new model can continue bringing down the val_mae, meaning it brings down the error rate in predicting the global sales for video games. Let us look at some visualisation for it to see how the loss performed"
   ]
  },
  {
   "cell_type": "code",
   "execution_count": null,
   "id": "3faa754f-7cfe-43be-b874-12841012c0b6",
   "metadata": {
    "tags": []
   },
   "outputs": [],
   "source": [
    "def plot_history(history):\n",
    " \n",
    "  \n",
    "    loss = history.history[\"loss\"]\n",
    "    val_loss = history.history[\"val_loss\"]\n",
    "    epochs = range(1, len(loss) + 1)\n",
    " \n",
    "    fig, (ax1, ax2) = plt.subplots(nrows=1,ncols=2, constrained_layout=True, figsize=(10,3))\n",
    "\n",
    " \n",
    "    ax2.plot(epochs, loss,  label=\"Training loss\")\n",
    "    ax2.plot(epochs, val_loss,  label=\"Validation loss\")\n",
    "    ax2.set_title(\"Training and validation loss\")\n",
    "    ax2.legend()\n",
    "    plt.show()"
   ]
  },
  {
   "cell_type": "code",
   "execution_count": null,
   "id": "13bca448-1799-4fd5-8127-821991aaa7de",
   "metadata": {
    "tags": []
   },
   "outputs": [],
   "source": [
    "plot_history(history10)"
   ]
  },
  {
   "cell_type": "markdown",
   "id": "00f7724e-9cad-4999-b425-53757790ac13",
   "metadata": {},
   "source": [
    "-----------------------------------------------------------------------"
   ]
  },
  {
   "cell_type": "markdown",
   "id": "438ce5f9-e69c-48a9-9508-a07eefb71767",
   "metadata": {},
   "source": [
    "<h3> MODEL 11: LOGCOSH FUNCTION </h3>\n"
   ]
  },
  {
   "cell_type": "code",
   "execution_count": null,
   "id": "ae346378-bad4-4534-9cfd-9dc845cd938c",
   "metadata": {
    "tags": []
   },
   "outputs": [],
   "source": [
    "tf.keras.backend.clear_session()\n",
    "model11 = tf.keras.models.Sequential()\n",
    "model11.add(tf.keras.layers.Dense(64, activation = 'relu', input_shape = (train.shape[1],)))\n",
    "model11.add(tf.keras.layers.Dense(64, activation = 'relu'))\n",
    "model11.add(tf.keras.layers.Dense(1))\n",
    "model11.compile(optimizer = SGD(learning_rate=0.0001),\n",
    "        loss='logcosh',\n",
    "        metrics=['mae'])\n",
    "    "
   ]
  },
  {
   "cell_type": "code",
   "execution_count": null,
   "id": "c9af57f5-5091-4100-81a5-e6ef98187193",
   "metadata": {
    "tags": []
   },
   "outputs": [],
   "source": [
    "history11 = model11.fit(\n",
    "        train,\n",
    "        train_target,\n",
    "        validation_data=(validation, validation_target),\n",
    "        epochs= 20, batch_size= 1, verbose= 1 \n",
    "        )"
   ]
  },
  {
   "cell_type": "code",
   "execution_count": null,
   "id": "5680d5f2-c8c8-45c0-aef5-b01315ef30c6",
   "metadata": {
    "tags": []
   },
   "outputs": [],
   "source": [
    "min(history11.history['val_mae'])"
   ]
  },
  {
   "cell_type": "markdown",
   "id": "cc540d54-e596-4943-91eb-2b97a3bb9d89",
   "metadata": {},
   "source": [
    "<h4> This is a new model that also has brought the val_mae to a low 0.46. The difference is in the optimizer. The first succesful model used the rmsprop and had three layers of 132 neurons and one layer of 64 neurons. This model performs just as well, with a SGD optimizer, with a learning rate of 0.0001 and a logcosh loss function. I will look at the visualisation for the loss.  "
   ]
  },
  {
   "cell_type": "code",
   "execution_count": null,
   "id": "cf57d7d1-9bde-41da-895d-268fd87c21c7",
   "metadata": {
    "tags": []
   },
   "outputs": [],
   "source": [
    "def plot_history(history):\n",
    " \n",
    "  \n",
    "    loss = history.history[\"loss\"]\n",
    "    val_loss = history.history[\"val_loss\"]\n",
    "    epochs = range(1, len(loss) + 1)\n",
    " \n",
    "    fig, (ax1, ax2) = plt.subplots(nrows=1,ncols=2, constrained_layout=True, figsize=(10,3))\n",
    "\n",
    " \n",
    "    ax2.plot(epochs, loss,  label=\"Training loss\")\n",
    "    ax2.plot(epochs, val_loss,  label=\"Validation loss\")\n",
    "    ax2.set_title(\"Training and validation loss\")\n",
    "    ax2.legend()\n",
    "    plt.show()"
   ]
  },
  {
   "cell_type": "code",
   "execution_count": null,
   "id": "ca2a9750-c5c8-46ab-94c4-430575077e0e",
   "metadata": {
    "tags": []
   },
   "outputs": [],
   "source": [
    "plot_history(history11)"
   ]
  },
  {
   "cell_type": "markdown",
   "id": "7a35a4e5-40c2-4ba6-90a9-5b378b718fa8",
   "metadata": {},
   "source": [
    "<h3> Looking at all the visualisation I have done so far, the training loss always decline rapidly after the first epoch, getting as low as possible, and having the same trajectory as the validation loss. The learning rate is directly responsible for the training loss, and it shows how valuable it is. I will be keeping it on for the next model. "
   ]
  },
  {
   "cell_type": "markdown",
   "id": "443bba61-6417-447d-ac50-5a3716e4fa05",
   "metadata": {},
   "source": [
    "-------------------------------"
   ]
  },
  {
   "cell_type": "markdown",
   "id": "193bd72e-36eb-4e2a-bdc9-111deebebd78",
   "metadata": {},
   "source": [
    "<h3> MODEL 13: mean_squared_logarithmic_error LOSS FUNCTION </h3>"
   ]
  },
  {
   "cell_type": "markdown",
   "id": "ad027d1a-1d3d-489a-acf2-1671c2924fab",
   "metadata": {},
   "source": [
    "<h4> For all models that have mean_squared_logarithmic_error, their validation and training loss cannot be directly compared to the losses of other models with different loss functions. However, as this is an experimental report, I will be trying it out to see the results it gives. "
   ]
  },
  {
   "cell_type": "code",
   "execution_count": null,
   "id": "3736b07a-dea0-40d4-a230-01e8be990731",
   "metadata": {
    "tags": []
   },
   "outputs": [],
   "source": [
    "tf.keras.backend.clear_session()\n",
    "model13 = tf.keras.models.Sequential()\n",
    "model13.add(tf.keras.layers.Dense(64, activation = 'relu', input_shape = (train.shape[1],)))\n",
    "model13.add(tf.keras.layers.Dense(64, activation = 'relu'))\n",
    "model13.add(tf.keras.layers.Dense(1))\n",
    "model13.compile(optimizer = SGD(learning_rate=0.0001),\n",
    "        loss='mean_squared_logarithmic_error',\n",
    "        metrics=['mae'])\n",
    "    "
   ]
  },
  {
   "cell_type": "code",
   "execution_count": null,
   "id": "57e97d10-2d05-436d-ac59-78e5dcc3bbc3",
   "metadata": {
    "tags": []
   },
   "outputs": [],
   "source": [
    "history13 = model13.fit(\n",
    "        train,\n",
    "        train_target,\n",
    "        validation_data=(validation, validation_target),\n",
    "        epochs= 20, batch_size= 1, verbose= 1 \n",
    "        )"
   ]
  },
  {
   "cell_type": "code",
   "execution_count": null,
   "id": "72ad30c3-a865-49fd-a731-5f874a6d99bc",
   "metadata": {
    "tags": []
   },
   "outputs": [],
   "source": [
    "min(history13.history['val_mae'])"
   ]
  },
  {
   "cell_type": "markdown",
   "id": "3c32ade7-8cba-4156-a4ce-9df37c8912a1",
   "metadata": {},
   "source": [
    "---------------------------------------"
   ]
  },
  {
   "cell_type": "markdown",
   "id": "a2c099dd-74aa-4774-b004-4e064020bba4",
   "metadata": {},
   "source": [
    "<h3> MODEL 14: SGD, LOW LEARNING RATE AND 3 LAYERS WITH 64 NEURONS </h3>\n",
    "\n",
    "<h4> As we are keeping the new SGD with the learning rate of 0.0001 and the mean_squared_logarithmic_error loss function, we are now looking to update the number of layers again to see if it changes the outcome. I will now add one more layer of 64 neurons to the model. </h4>"
   ]
  },
  {
   "cell_type": "code",
   "execution_count": null,
   "id": "2f0ba281-bef6-4e1c-9321-4d572df00ce4",
   "metadata": {
    "tags": []
   },
   "outputs": [],
   "source": [
    "tf.keras.backend.clear_session()\n",
    "model14 = tf.keras.models.Sequential()\n",
    "model14.add(tf.keras.layers.Dense(64, activation = 'relu', input_shape = (train.shape[1],)))\n",
    "model14.add(tf.keras.layers.Dense(64, activation = 'relu'))\n",
    "model14.add(tf.keras.layers.Dense(64, activation = 'relu'))\n",
    "model14.add(tf.keras.layers.Dense(1))\n",
    "model14.compile(optimizer = SGD(learning_rate=0.0001),\n",
    "        loss='mean_squared_logarithmic_error',\n",
    "        metrics=['mae'])\n",
    "    "
   ]
  },
  {
   "cell_type": "code",
   "execution_count": null,
   "id": "278a4316-f359-4fb8-8979-c21a1f7ea90f",
   "metadata": {
    "tags": []
   },
   "outputs": [],
   "source": [
    "history14 = model14.fit(\n",
    "        train,\n",
    "        train_target,\n",
    "        validation_data=(validation, validation_target),\n",
    "        epochs= 20, batch_size= 1, verbose= 1 \n",
    "        )"
   ]
  },
  {
   "cell_type": "code",
   "execution_count": null,
   "id": "7a293ef8-efe6-42c0-a9e8-f14b2e092e2f",
   "metadata": {
    "tags": []
   },
   "outputs": [],
   "source": [
    "min(history14.history['val_mae'])"
   ]
  },
  {
   "cell_type": "markdown",
   "id": "88695e55-fcad-49c6-87cc-c0b36846ec49",
   "metadata": {},
   "source": [
    "----------------------------------"
   ]
  },
  {
   "cell_type": "markdown",
   "id": "e4f5e764-ece0-4d41-bdcc-518902e21377",
   "metadata": {},
   "source": [
    "<h3> MODEL 15: THREE LAYERS OF 132 NEURONS, RELU, SGD AND mean_squared_logarithmic_error </h3> "
   ]
  },
  {
   "cell_type": "code",
   "execution_count": null,
   "id": "1e87bef4-03a3-4132-9ce9-55cd7b7696d8",
   "metadata": {
    "tags": []
   },
   "outputs": [],
   "source": [
    "tf.keras.backend.clear_session()\n",
    "model15 = tf.keras.models.Sequential()\n",
    "model15.add(tf.keras.layers.Dense(132, activation = 'relu', input_shape = (train.shape[1],)))\n",
    "model15.add(tf.keras.layers.Dense(132, activation = 'relu'))\n",
    "model15.add(tf.keras.layers.Dense(132, activation = 'relu'))\n",
    "model15.add(tf.keras.layers.Dense(1))\n",
    "model15.compile(optimizer = SGD(learning_rate=0.0001),\n",
    "        loss='mean_squared_logarithmic_error',\n",
    "        metrics=['mae'])\n",
    "        "
   ]
  },
  {
   "cell_type": "code",
   "execution_count": null,
   "id": "626739a7-a45d-4096-a274-9714681fc71a",
   "metadata": {
    "tags": []
   },
   "outputs": [],
   "source": [
    "history15 = model15.fit(\n",
    "        train,\n",
    "        train_target,\n",
    "        validation_data=(validation, validation_target),\n",
    "        epochs= 20, batch_size= 1, verbose= 1 \n",
    "        )"
   ]
  },
  {
   "cell_type": "code",
   "execution_count": null,
   "id": "a4d788b6-cb32-4e85-8662-845bc3ad5558",
   "metadata": {
    "tags": []
   },
   "outputs": [],
   "source": [
    "min(history15.history['val_mae'])"
   ]
  },
  {
   "cell_type": "markdown",
   "id": "67ac7bf1-315b-4072-a4e2-66998f2441d0",
   "metadata": {},
   "source": [
    "------------------------"
   ]
  },
  {
   "cell_type": "markdown",
   "id": "f60c5563-024c-4aa4-bde0-cacad7980225",
   "metadata": {},
   "source": [
    "<H3>  MODEL 17: LINEAR ACTIVATION FUNCTION </H3>"
   ]
  },
  {
   "cell_type": "code",
   "execution_count": null,
   "id": "f5e7c382-ac9f-412c-9f2e-f1d13a2794f0",
   "metadata": {
    "tags": []
   },
   "outputs": [],
   "source": [
    "tf.keras.backend.clear_session()\n",
    "model17 = tf.keras.models.Sequential()\n",
    "model17.add(tf.keras.layers.Dense(64, activation = 'linear', input_shape = (train.shape[1],)))\n",
    "model17.add(tf.keras.layers.Dense(64, activation = 'linear'))\n",
    "model17.add(tf.keras.layers.Dense(64, activation = 'linear'))\n",
    "model17.add(tf.keras.layers.Dense(1))\n",
    "model17.compile(optimizer = SGD(learning_rate=0.0001),\n",
    "        loss='mean_squared_logarithmic_error',\n",
    "        metrics=['mae'])\n",
    "        "
   ]
  },
  {
   "cell_type": "code",
   "execution_count": null,
   "id": "8dd04bff-bd2a-4307-bd92-aba9480b9077",
   "metadata": {
    "tags": []
   },
   "outputs": [],
   "source": [
    "history17 = model17.fit(\n",
    "        train,\n",
    "        train_target,\n",
    "        validation_data=(validation, validation_target),\n",
    "        epochs= 20, batch_size= 1, verbose= 1\n",
    "        )"
   ]
  },
  {
   "cell_type": "code",
   "execution_count": null,
   "id": "bbbcf1ee-8acf-4404-9625-704f60422247",
   "metadata": {
    "tags": []
   },
   "outputs": [],
   "source": [
    "min(history17.history['val_mae'])"
   ]
  },
  {
   "cell_type": "markdown",
   "id": "8225bcfb-e229-418e-b51d-3cfea0446133",
   "metadata": {},
   "source": [
    "explain why you are not using this module and how high this val mae is "
   ]
  },
  {
   "cell_type": "markdown",
   "id": "72eb8e78-9059-4d8f-b0fd-e40555a68671",
   "metadata": {},
   "source": [
    "--------------------------------------------"
   ]
  },
  {
   "cell_type": "markdown",
   "id": "9748c9d5-4e6b-4755-ad52-1d82b1a6e018",
   "metadata": {},
   "source": [
    "<h3> MODEL 19: FIVE LAYERS OF 64 NEURONS </h3>"
   ]
  },
  {
   "cell_type": "code",
   "execution_count": null,
   "id": "5f5f7dd0-2678-41db-aeb4-3c97cf1b8f4b",
   "metadata": {
    "tags": []
   },
   "outputs": [],
   "source": [
    "tf.keras.backend.clear_session()\n",
    "model19 = tf.keras.models.Sequential()\n",
    "model19.add(tf.keras.layers.Dense(64, activation = 'relu', input_shape = (train.shape[1],)))\n",
    "model19.add(tf.keras.layers.Dense(64, activation = 'relu'))\n",
    "model19.add(tf.keras.layers.Dense(64, activation = 'relu'))\n",
    "model19.add(tf.keras.layers.Dense(64, activation = 'relu'))\n",
    "model19.add(tf.keras.layers.Dense(64, activation = 'relu'))\n",
    "model19.add(tf.keras.layers.Dense(1))\n",
    "model19.compile(optimizer = SGD(learning_rate=0.000001),\n",
    "        loss='mean_squared_logarithmic_error',\n",
    "        metrics=['mae'])"
   ]
  },
  {
   "cell_type": "code",
   "execution_count": null,
   "id": "c9b0b9be-5c11-46c6-8ea1-fca58f3d7e9c",
   "metadata": {
    "tags": []
   },
   "outputs": [],
   "source": [
    "history19 = model19.fit(\n",
    "        train,\n",
    "        train_target,\n",
    "        validation_data=(validation, validation_target),\n",
    "        epochs= 20, batch_size= 1, verbose= 1\n",
    "        )"
   ]
  },
  {
   "cell_type": "code",
   "execution_count": null,
   "id": "ec2b6dde-a430-40cf-9dc7-cea69fc98291",
   "metadata": {
    "tags": []
   },
   "outputs": [],
   "source": [
    "min(history19.history['val_mae'])"
   ]
  },
  {
   "cell_type": "markdown",
   "id": "3d61a6f4-fdd3-42be-9908-4fedacd06e61",
   "metadata": {
    "tags": []
   },
   "source": [
    "<h4> It is quite clear that the mean_squared_logarithmic_error is not a useful loss function. The val_mae that it gave out are incredibly high, representing the very low accuracy of the model. "
   ]
  },
  {
   "cell_type": "markdown",
   "id": "b3b2c83f-6105-4435-b5b5-fd2461ae38a0",
   "metadata": {},
   "source": [
    "<h3> MODEL 20 - DROPOUT LAYERS"
   ]
  },
  {
   "cell_type": "markdown",
   "id": "4dcfee69-00a4-4a47-939b-2b809b80bb63",
   "metadata": {
    "tags": []
   },
   "source": [
    "<h4> This is an example of a simple model with just two dense layers, modified to take on two dropout layers to prevent overfitting. "
   ]
  },
  {
   "cell_type": "code",
   "execution_count": null,
   "id": "138b186f-9e0e-408b-bb66-c8da22643e92",
   "metadata": {
    "tags": []
   },
   "outputs": [],
   "source": [
    "tf.keras.backend.clear_session()\n",
    "model_play = tf.keras.models.Sequential()\n",
    "model_play.add(tf.keras.layers.Dense(64, activation = 'sigmoid', input_shape = (train.shape[1],)))\n",
    "model_play.add(tf.keras.layers.Dropout(0.3))\n",
    "model_play.add(tf.keras.layers.Dense(64, activation = 'sigmoid'))\n",
    "model_play.add(tf.keras.layers.Dropout(0.3))\n",
    "model_play.add(tf.keras.layers.Dense(1))\n",
    "model_play.compile(optimizer = SGD(learning_rate=0.03),\n",
    "        loss='mse',\n",
    "        metrics=['mae'])\n",
    "    "
   ]
  },
  {
   "cell_type": "code",
   "execution_count": null,
   "id": "ab22c0f9-3f52-4b15-9d2e-e3e0fb9ea604",
   "metadata": {
    "tags": []
   },
   "outputs": [],
   "source": [
    "history_play = model_play.fit(\n",
    "        train,\n",
    "        train_target,\n",
    "        validation_data=(validation, validation_target),\n",
    "        epochs= 10, batch_size= 5, verbose= 1 \n",
    "        )"
   ]
  },
  {
   "cell_type": "code",
   "execution_count": null,
   "id": "8ad8d1f3-ce95-4e1e-9ce2-4777fc62a0b3",
   "metadata": {
    "tags": []
   },
   "outputs": [],
   "source": [
    "prediction_play=model_play.predict(test)\n",
    "print(prediction_play)"
   ]
  },
  {
   "cell_type": "code",
   "execution_count": null,
   "id": "2f71a5c3-1f0f-4bea-87d8-0aa2dface032",
   "metadata": {
    "tags": []
   },
   "outputs": [],
   "source": [
    "(prediction_play!=0.44713214).sum()"
   ]
  },
  {
   "cell_type": "code",
   "execution_count": null,
   "id": "7f0e4683-9e1a-40a8-8e1f-e7c0f27faa89",
   "metadata": {
    "tags": []
   },
   "outputs": [],
   "source": [
    "(prediction_play!=0.4397072).sum()"
   ]
  },
  {
   "cell_type": "markdown",
   "id": "78827b66-2dae-4bf4-9933-ee455871b533",
   "metadata": {},
   "source": [
    "--------------------------------------------"
   ]
  },
  {
   "cell_type": "markdown",
   "id": "ef3a7342-1db9-410f-84ab-998a73f5faf9",
   "metadata": {},
   "source": [
    "<h4> According to the Chollet (2021, pg 133), you train the training data and evaluate the model on the validation data, which is represented by all the models we have worked on so far. \n",
    "\n",
    "He goes one to say that once you have a trained model, you use the predict method in order to test it in a more practical way, so that is what I will be doing below. Now that I have chosen the right model for the dataset which produces satisfactory results (val_mae=0.46), I will now test it against the test data with the predict method. \n"
   ]
  },
  {
   "cell_type": "markdown",
   "id": "ee6e4a07-cb50-48a3-9a7a-5adc2815a67f",
   "metadata": {},
   "source": [
    "<h3> A. PERFORMANCE ASSESSMENT ON FIRST SUCCESSFUL MODEL - MODEL 11</h3> \n",
    "\n",
    "As I have looked at a mutiple number of hyperparametres, including activation functions, loss functions, optimizers, numbers of layers and neurons etc, I will stop in order to continue with the assessment of performance. I am looking at the two most successful models, one that gave 0.46 as val_mae and one that gave 0.49. The two were the lowest rates, which signifies that the models have validated the results against the validation sets. As a reminder, the start of the first val_mae in the first model was of 31. \n",
    "\n",
    "- The first model had three layers of 132 neurons and one layer of 64 neurons. It had a relu activation function, a rmsprop optimizer and the mse loss. \n",
    "- The second best model had two layers of 64 neurons each, a sigmoid activation function, a SGD optimizer with a learning rate of 0.3, and the mse loss. \n",
    "\n",
    "I will now look to assess the model performance against the test set I previously split."
   ]
  },
  {
   "cell_type": "code",
   "execution_count": null,
   "id": "4db750b6-c5e7-4feb-8cf6-9be3a056ce65",
   "metadata": {},
   "outputs": [],
   "source": [
    "tf.keras.backend.clear_session()\n",
    "model_best = tf.keras.models.Sequential()\n",
    "model_best.add(tf.keras.layers.Dense(132, activation = 'relu', input_shape = (train.shape[1],)))\n",
    "model_best.add(tf.keras.layers.Dense(132, activation = 'relu'))\n",
    "model_best.add(tf.keras.layers.Dense(132, activation = 'relu'))\n",
    "model_best.add(tf.keras.layers.Dense(64, activation = 'relu'))\n",
    "model_best.add(tf.keras.layers.Dense(1))\n",
    "model_best.compile(optimizer='rmsprop',\n",
    "        loss='mse',\n",
    "        metrics=['mae'])\n",
    "    "
   ]
  },
  {
   "cell_type": "code",
   "execution_count": null,
   "id": "3ae281e3-a057-453c-b44a-e77241957948",
   "metadata": {},
   "outputs": [],
   "source": [
    "history_best = model_best.fit(\n",
    "        train,\n",
    "        train_target,\n",
    "        validation_data=(validation, validation_target),\n",
    "        epochs= 25, batch_size= 30, verbose= 1 \n",
    "        )"
   ]
  },
  {
   "cell_type": "code",
   "execution_count": null,
   "id": "cc932d8c-84f6-4a5b-b6c3-9237f03bc1d3",
   "metadata": {
    "tags": []
   },
   "outputs": [],
   "source": [
    "min(history_best.history['val_mae'])"
   ]
  },
  {
   "cell_type": "markdown",
   "id": "61926e57-2eff-4885-b4aa-d34389527a1f",
   "metadata": {},
   "source": [
    "I will check the individual predictions of global sales now. "
   ]
  },
  {
   "cell_type": "code",
   "execution_count": null,
   "id": "45ae0df6-aa9c-45fe-9d12-d02507655fa7",
   "metadata": {},
   "outputs": [],
   "source": [
    "test_predictions=model_best.predict(test)\n",
    "print(test_predictions)"
   ]
  },
  {
   "cell_type": "code",
   "execution_count": null,
   "id": "f63a3f37-7684-4a7b-be6b-7b45c4c32611",
   "metadata": {},
   "outputs": [],
   "source": [
    "(test_predictions!=0.52884823).sum()"
   ]
  },
  {
   "cell_type": "code",
   "execution_count": null,
   "id": "9149805b-1c1e-4435-8055-6efa55b5f27b",
   "metadata": {},
   "outputs": [],
   "source": [
    "mae_predictions=model_best.predict(test)\n",
    "print(test_predictions)"
   ]
  },
  {
   "cell_type": "code",
   "execution_count": null,
   "id": "2c6472bd-926d-4463-aa5f-c42460993712",
   "metadata": {
    "tags": []
   },
   "outputs": [],
   "source": [
    "mean_absolute_error(test_target, test_predictions)"
   ]
  },
  {
   "cell_type": "markdown",
   "id": "8c22b620-1764-4c84-bac7-3879853dddec",
   "metadata": {},
   "source": [
    "<h4> My performance under the test set is 0.59. On average my model’s predictions are 0.59 units away from the real global sales in the test set."
   ]
  },
  {
   "cell_type": "markdown",
   "id": "5a98c8e8-802b-42e1-8277-96675ef9da87",
   "metadata": {},
   "source": [
    "<h3> B. PERFORMANCE ASSESSMENT ON ANOTHER SUCCESSFUL MODEL - MODEL 7</h3>"
   ]
  },
  {
   "cell_type": "code",
   "execution_count": null,
   "id": "aab9fd60-ee34-48d4-9427-c4f73d7c3922",
   "metadata": {
    "tags": []
   },
   "outputs": [],
   "source": [
    "tf.keras.backend.clear_session()\n",
    "second_best = tf.keras.models.Sequential()\n",
    "second_best.add(tf.keras.layers.Dense(64, activation = 'sigmoid', input_shape = (train.shape[1],)))\n",
    "second_best.add(tf.keras.layers.Dense(64, activation = 'sigmoid'))\n",
    "second_best.add(tf.keras.layers.Dense(1))\n",
    "second_best.compile(optimizer = SGD(learning_rate=0.03),\n",
    "        loss='mse',\n",
    "        metrics=['mae'])\n",
    "    "
   ]
  },
  {
   "cell_type": "code",
   "execution_count": null,
   "id": "0e3c97c5-9b02-4a91-8acb-de58089e919e",
   "metadata": {
    "tags": []
   },
   "outputs": [],
   "source": [
    "test_predictions_two=second_best.predict(test)\n",
    "print(test_predictions_two)"
   ]
  },
  {
   "cell_type": "code",
   "execution_count": null,
   "id": "d7fd503b-9e58-4525-9864-5dff80138504",
   "metadata": {
    "tags": []
   },
   "outputs": [],
   "source": [
    "mean_absolute_error(test_target, test_predictions_two)"
   ]
  },
  {
   "cell_type": "markdown",
   "id": "64f90bb3-cc2f-4bee-af02-07b75bc784eb",
   "metadata": {},
   "source": [
    "<h4> The performance assessment for a randomly chosen model that had an initial value of val_mae of 0.49 shows that the accuracy is quite low. The mean absolute error highlights that the model is 0.82 units away from the global sales in the test set. "
   ]
  },
  {
   "cell_type": "markdown",
   "id": "906f1f6b-1dd8-48cc-9daa-44ff10d98a79",
   "metadata": {},
   "source": [
    "<h1> Results </h1> "
   ]
  },
  {
   "cell_type": "markdown",
   "id": "1b731371-75a0-45cf-8326-69ba6bc20b88",
   "metadata": {},
   "source": [
    "<h4> Batch sizes </h4> "
   ]
  },
  {
   "cell_type": "markdown",
   "id": "5817a0d1-057e-49b1-885a-53c1199bfdc3",
   "metadata": {},
   "source": [
    "- It seems that bigger the the faster the model will run, however it is a trade off, because it can cause the model to use more memory but also it can overlook examples that it can learn from. \n",
    "- However, if I lower the batch size, the model runs slowers, but it is more stable, it does not overlook examples that it can learn from and it uses less computing power. As this was an explanatory analysis of how the model performs whilst updating different hyperparametres, it was good and necessary to experiment with both types of batch sizes. \n",
    "- It seems for this specific regression task, both batch sizes of 5 and 30 were successful. "
   ]
  },
  {
   "cell_type": "markdown",
   "id": "2dc58444-e489-4e05-a678-b6c04b1fef02",
   "metadata": {},
   "source": [
    "<h4> Loss function </h4> "
   ]
  },
  {
   "cell_type": "markdown",
   "id": "cd0f9a1d-abfb-4229-92e8-5e8ed8709f6d",
   "metadata": {},
   "source": [
    "- Throughout this report, I have used several loss functions: mse, huber loss, logcosh, mean_squared_logarithmic_error. The best models (Model 10 and Model 11) had huber loss and respectively logcosh as loss functions. \n",
    "- Comparatively, the models using the mean_squared_logarithmic_error loss function, had val_mae of 4080 (Model 17), which is incredibly high and clearly not useful for any regression task. "
   ]
  },
  {
   "cell_type": "markdown",
   "id": "cf761433-790c-4118-8ffb-c2b00aaf8e68",
   "metadata": {},
   "source": [
    "<h4> Optimizer & Learning Rate </h4> "
   ]
  },
  {
   "cell_type": "markdown",
   "id": "3788f8d9-c5e1-44ff-8c7b-4c8183c08d9d",
   "metadata": {},
   "source": [
    "- The optimizer with the best outcome was SGD with a learning_rate=0.0001, which is unsurpising. Chollet (2021) highlights the importance of the learning rate and how tuning it ever so slightly can have a massive impact on the validation result."
   ]
  },
  {
   "cell_type": "markdown",
   "id": "27fa2391-bf4a-4482-b902-deb52b0f8cd1",
   "metadata": {},
   "source": [
    "<h4> Activation function </h4> "
   ]
  },
  {
   "cell_type": "markdown",
   "id": "2371f890-69b2-47c2-9358-356975f59a68",
   "metadata": {},
   "source": [
    "- It is unsurprising that the best model that offered a 0.46 model has relu activation and rmsprop as optimizer, as both are a good default for a regression task, according to the \"Deep learning with python\" (Chollet, 2021). \n"
   ]
  },
  {
   "cell_type": "markdown",
   "id": "4e6a0a63-4629-4258-81b6-97fd01a9f013",
   "metadata": {},
   "source": [
    "<h4> Numbers of layers and neurons </h4> "
   ]
  },
  {
   "cell_type": "markdown",
   "id": "78dcfde4-5d4f-439e-b729-40f76a944ce5",
   "metadata": {},
   "source": [
    "- The first model I ran was the Boston lab done by Jeremie Wenger, and it had two layers of 64 neurons each. My most successful model had three layers of 132 neurons each and one layer with 64 neurons.  \n"
   ]
  },
  {
   "cell_type": "markdown",
   "id": "54e40207-468e-4d58-9e2c-6ce7d346f9af",
   "metadata": {},
   "source": [
    "<h1> Conclusion "
   ]
  },
  {
   "cell_type": "markdown",
   "id": "ef755010-a2c3-4c6b-bd03-08aed1aa054b",
   "metadata": {},
   "source": [
    "In conclusion, this explanatory report of had an aim of predicting the global sales for video games from 1980 to 2020. I have tuned several hyperparameters, in order to obtain the best possible model to predict the sales. \n",
    "\n",
    "The average of sales was between 0.01 and 0.47 with some outliers reaching 82. According to the best model, the validation for the mean absolute error was 0.46. Ideally, I would have wanted to reduce it to 0.35, but due to the lack of extensive time, that was not possible. \n",
    "\n",
    "The predictions of the best model are 0.59 units away from the real global_sales, which is not a bad result. I have also paid attention to overfitting and used dropout layers, however the validation_mae was on average the same as the unsuccessful models. \n",
    "\n",
    "This was a very interesting report to conduct, and a great introduction into the world of the many machine learning model possibilities. Ideally, moving forward, I want to focus on learning to reduce the validation mae through other options. "
   ]
  },
  {
   "cell_type": "markdown",
   "id": "de11c01c-d0ce-478e-a402-fb3b5f5665ce",
   "metadata": {},
   "source": [
    "<h4> References"
   ]
  },
  {
   "cell_type": "markdown",
   "id": "f813e27f-0a29-4fb3-ab9f-d39eec45a13d",
   "metadata": {},
   "source": [
    "Chollet, F. (2021) ‘1-6’, in Deep learning with python. 2nd edn. Shelter Island: Manning Publications. \n",
    "\n",
    "Smith, G. (2016) Video game sales, Kaggle. Available at: https://www.kaggle.com/datasets/gregorut/videogamesales (Accessed: 02 November 2023). \n",
    "\n",
    "William D’Angelo,  posted N. 15th et al. (no date) Video game charts, game sales, top sellers, game data, VGChartz. Available at: https://www.vgchartz.com/ (Accessed: 02 November 2023). "
   ]
  }
 ],
 "metadata": {
  "kernelspec": {
   "display_name": "Python 3 (ipykernel)",
   "language": "python",
   "name": "python3"
  },
  "language_info": {
   "codemirror_mode": {
    "name": "ipython",
    "version": 3
   },
   "file_extension": ".py",
   "mimetype": "text/x-python",
   "name": "python",
   "nbconvert_exporter": "python",
   "pygments_lexer": "ipython3",
   "version": "3.10.13"
  }
 },
 "nbformat": 4,
 "nbformat_minor": 5
}
